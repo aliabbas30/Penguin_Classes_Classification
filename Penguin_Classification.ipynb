{
 "cells": [
  {
   "cell_type": "code",
   "execution_count": 1,
   "id": "a87dc259",
   "metadata": {},
   "outputs": [],
   "source": [
    "import pandas as pd\n",
    "import matplotlib.pyplot as plt\n",
    "import seaborn as sns\n",
    "import numpy as np\n",
    "import warnings\n",
    "warnings.filterwarnings('ignore')"
   ]
  },
  {
   "cell_type": "code",
   "execution_count": 2,
   "id": "4ab8dfc6",
   "metadata": {},
   "outputs": [],
   "source": [
    "f1 = pd.read_csv('penguins_lter.csv')"
   ]
  },
  {
   "cell_type": "code",
   "execution_count": 3,
   "id": "3b829c2a",
   "metadata": {},
   "outputs": [
    {
     "data": {
      "text/html": [
       "<div>\n",
       "<style scoped>\n",
       "    .dataframe tbody tr th:only-of-type {\n",
       "        vertical-align: middle;\n",
       "    }\n",
       "\n",
       "    .dataframe tbody tr th {\n",
       "        vertical-align: top;\n",
       "    }\n",
       "\n",
       "    .dataframe thead th {\n",
       "        text-align: right;\n",
       "    }\n",
       "</style>\n",
       "<table border=\"1\" class=\"dataframe\">\n",
       "  <thead>\n",
       "    <tr style=\"text-align: right;\">\n",
       "      <th></th>\n",
       "      <th>studyName</th>\n",
       "      <th>Sample Number</th>\n",
       "      <th>Species</th>\n",
       "      <th>Region</th>\n",
       "      <th>Island</th>\n",
       "      <th>Stage</th>\n",
       "      <th>Individual ID</th>\n",
       "      <th>Clutch Completion</th>\n",
       "      <th>Date Egg</th>\n",
       "      <th>Culmen Length (mm)</th>\n",
       "      <th>Culmen Depth (mm)</th>\n",
       "      <th>Flipper Length (mm)</th>\n",
       "      <th>Body Mass (g)</th>\n",
       "      <th>Sex</th>\n",
       "      <th>Delta 15 N (o/oo)</th>\n",
       "      <th>Delta 13 C (o/oo)</th>\n",
       "      <th>Comments</th>\n",
       "    </tr>\n",
       "  </thead>\n",
       "  <tbody>\n",
       "    <tr>\n",
       "      <th>0</th>\n",
       "      <td>PAL0708</td>\n",
       "      <td>1</td>\n",
       "      <td>Adelie Penguin (Pygoscelis adeliae)</td>\n",
       "      <td>Anvers</td>\n",
       "      <td>Torgersen</td>\n",
       "      <td>Adult, 1 Egg Stage</td>\n",
       "      <td>N1A1</td>\n",
       "      <td>Yes</td>\n",
       "      <td>11/11/07</td>\n",
       "      <td>39.1</td>\n",
       "      <td>18.7</td>\n",
       "      <td>181.0</td>\n",
       "      <td>3750.0</td>\n",
       "      <td>MALE</td>\n",
       "      <td>NaN</td>\n",
       "      <td>NaN</td>\n",
       "      <td>Not enough blood for isotopes.</td>\n",
       "    </tr>\n",
       "    <tr>\n",
       "      <th>1</th>\n",
       "      <td>PAL0708</td>\n",
       "      <td>2</td>\n",
       "      <td>Adelie Penguin (Pygoscelis adeliae)</td>\n",
       "      <td>Anvers</td>\n",
       "      <td>Torgersen</td>\n",
       "      <td>Adult, 1 Egg Stage</td>\n",
       "      <td>N1A2</td>\n",
       "      <td>Yes</td>\n",
       "      <td>11/11/07</td>\n",
       "      <td>39.5</td>\n",
       "      <td>17.4</td>\n",
       "      <td>186.0</td>\n",
       "      <td>3800.0</td>\n",
       "      <td>FEMALE</td>\n",
       "      <td>8.94956</td>\n",
       "      <td>-24.69454</td>\n",
       "      <td>NaN</td>\n",
       "    </tr>\n",
       "  </tbody>\n",
       "</table>\n",
       "</div>"
      ],
      "text/plain": [
       "  studyName  Sample Number                              Species  Region  \\\n",
       "0   PAL0708              1  Adelie Penguin (Pygoscelis adeliae)  Anvers   \n",
       "1   PAL0708              2  Adelie Penguin (Pygoscelis adeliae)  Anvers   \n",
       "\n",
       "      Island               Stage Individual ID Clutch Completion  Date Egg  \\\n",
       "0  Torgersen  Adult, 1 Egg Stage          N1A1               Yes  11/11/07   \n",
       "1  Torgersen  Adult, 1 Egg Stage          N1A2               Yes  11/11/07   \n",
       "\n",
       "   Culmen Length (mm)  Culmen Depth (mm)  Flipper Length (mm)  Body Mass (g)  \\\n",
       "0                39.1               18.7                181.0         3750.0   \n",
       "1                39.5               17.4                186.0         3800.0   \n",
       "\n",
       "      Sex  Delta 15 N (o/oo)  Delta 13 C (o/oo)  \\\n",
       "0    MALE                NaN                NaN   \n",
       "1  FEMALE            8.94956          -24.69454   \n",
       "\n",
       "                         Comments  \n",
       "0  Not enough blood for isotopes.  \n",
       "1                             NaN  "
      ]
     },
     "execution_count": 3,
     "metadata": {},
     "output_type": "execute_result"
    }
   ],
   "source": [
    "f1.head(2)"
   ]
  },
  {
   "cell_type": "code",
   "execution_count": 4,
   "id": "785a99ba",
   "metadata": {},
   "outputs": [
    {
     "data": {
      "text/plain": [
       "(344, 17)"
      ]
     },
     "execution_count": 4,
     "metadata": {},
     "output_type": "execute_result"
    }
   ],
   "source": [
    "f1.shape"
   ]
  },
  {
   "cell_type": "markdown",
   "id": "2b238a8c",
   "metadata": {},
   "source": [
    "## Deleting Unwanted variables"
   ]
  },
  {
   "cell_type": "code",
   "execution_count": 5,
   "id": "9bbf4707",
   "metadata": {},
   "outputs": [],
   "source": [
    "f1 = f1.drop(['studyName','Sample Number','Delta 15 N (o/oo)', 'Delta 13 C (o/oo)', 'Sex', 'Date Egg', 'Stage', 'Individual ID','Comments'], axis = 1)"
   ]
  },
  {
   "cell_type": "code",
   "execution_count": 6,
   "id": "b743301f",
   "metadata": {},
   "outputs": [
    {
     "data": {
      "text/html": [
       "<div>\n",
       "<style scoped>\n",
       "    .dataframe tbody tr th:only-of-type {\n",
       "        vertical-align: middle;\n",
       "    }\n",
       "\n",
       "    .dataframe tbody tr th {\n",
       "        vertical-align: top;\n",
       "    }\n",
       "\n",
       "    .dataframe thead th {\n",
       "        text-align: right;\n",
       "    }\n",
       "</style>\n",
       "<table border=\"1\" class=\"dataframe\">\n",
       "  <thead>\n",
       "    <tr style=\"text-align: right;\">\n",
       "      <th></th>\n",
       "      <th>Culmen Length (mm)</th>\n",
       "      <th>Culmen Depth (mm)</th>\n",
       "      <th>Flipper Length (mm)</th>\n",
       "      <th>Body Mass (g)</th>\n",
       "    </tr>\n",
       "  </thead>\n",
       "  <tbody>\n",
       "    <tr>\n",
       "      <th>count</th>\n",
       "      <td>342.000000</td>\n",
       "      <td>342.000000</td>\n",
       "      <td>342.000000</td>\n",
       "      <td>342.000000</td>\n",
       "    </tr>\n",
       "    <tr>\n",
       "      <th>mean</th>\n",
       "      <td>43.921930</td>\n",
       "      <td>17.151170</td>\n",
       "      <td>200.915205</td>\n",
       "      <td>4201.754386</td>\n",
       "    </tr>\n",
       "    <tr>\n",
       "      <th>std</th>\n",
       "      <td>5.459584</td>\n",
       "      <td>1.974793</td>\n",
       "      <td>14.061714</td>\n",
       "      <td>801.954536</td>\n",
       "    </tr>\n",
       "    <tr>\n",
       "      <th>min</th>\n",
       "      <td>32.100000</td>\n",
       "      <td>13.100000</td>\n",
       "      <td>172.000000</td>\n",
       "      <td>2700.000000</td>\n",
       "    </tr>\n",
       "    <tr>\n",
       "      <th>25%</th>\n",
       "      <td>39.225000</td>\n",
       "      <td>15.600000</td>\n",
       "      <td>190.000000</td>\n",
       "      <td>3550.000000</td>\n",
       "    </tr>\n",
       "    <tr>\n",
       "      <th>50%</th>\n",
       "      <td>44.450000</td>\n",
       "      <td>17.300000</td>\n",
       "      <td>197.000000</td>\n",
       "      <td>4050.000000</td>\n",
       "    </tr>\n",
       "    <tr>\n",
       "      <th>75%</th>\n",
       "      <td>48.500000</td>\n",
       "      <td>18.700000</td>\n",
       "      <td>213.000000</td>\n",
       "      <td>4750.000000</td>\n",
       "    </tr>\n",
       "    <tr>\n",
       "      <th>max</th>\n",
       "      <td>59.600000</td>\n",
       "      <td>21.500000</td>\n",
       "      <td>231.000000</td>\n",
       "      <td>6300.000000</td>\n",
       "    </tr>\n",
       "  </tbody>\n",
       "</table>\n",
       "</div>"
      ],
      "text/plain": [
       "       Culmen Length (mm)  Culmen Depth (mm)  Flipper Length (mm)  \\\n",
       "count          342.000000         342.000000           342.000000   \n",
       "mean            43.921930          17.151170           200.915205   \n",
       "std              5.459584           1.974793            14.061714   \n",
       "min             32.100000          13.100000           172.000000   \n",
       "25%             39.225000          15.600000           190.000000   \n",
       "50%             44.450000          17.300000           197.000000   \n",
       "75%             48.500000          18.700000           213.000000   \n",
       "max             59.600000          21.500000           231.000000   \n",
       "\n",
       "       Body Mass (g)  \n",
       "count     342.000000  \n",
       "mean     4201.754386  \n",
       "std       801.954536  \n",
       "min      2700.000000  \n",
       "25%      3550.000000  \n",
       "50%      4050.000000  \n",
       "75%      4750.000000  \n",
       "max      6300.000000  "
      ]
     },
     "execution_count": 6,
     "metadata": {},
     "output_type": "execute_result"
    }
   ],
   "source": [
    "f1.describe()"
   ]
  },
  {
   "cell_type": "markdown",
   "id": "068b5065",
   "metadata": {},
   "source": [
    "## Handeling Null values and duplicates"
   ]
  },
  {
   "cell_type": "code",
   "execution_count": 7,
   "id": "e8877dc3",
   "metadata": {},
   "outputs": [
    {
     "data": {
      "text/plain": [
       "Species                0\n",
       "Region                 0\n",
       "Island                 0\n",
       "Clutch Completion      0\n",
       "Culmen Length (mm)     2\n",
       "Culmen Depth (mm)      2\n",
       "Flipper Length (mm)    2\n",
       "Body Mass (g)          2\n",
       "dtype: int64"
      ]
     },
     "execution_count": 7,
     "metadata": {},
     "output_type": "execute_result"
    }
   ],
   "source": [
    "f1.isnull().sum()"
   ]
  },
  {
   "cell_type": "code",
   "execution_count": 8,
   "id": "f7cd0aae",
   "metadata": {},
   "outputs": [],
   "source": [
    "#Fill the null values\n",
    "f1 = f1.apply(lambda x: x.fillna(x.value_counts().index[0]))\n"
   ]
  },
  {
   "cell_type": "code",
   "execution_count": 9,
   "id": "b96cc528",
   "metadata": {},
   "outputs": [
    {
     "data": {
      "text/plain": [
       "Species                0\n",
       "Region                 0\n",
       "Island                 0\n",
       "Clutch Completion      0\n",
       "Culmen Length (mm)     0\n",
       "Culmen Depth (mm)      0\n",
       "Flipper Length (mm)    0\n",
       "Body Mass (g)          0\n",
       "dtype: int64"
      ]
     },
     "execution_count": 9,
     "metadata": {},
     "output_type": "execute_result"
    }
   ],
   "source": [
    "f1.isnull().sum()"
   ]
  },
  {
   "cell_type": "code",
   "execution_count": 10,
   "id": "95ebf9e2",
   "metadata": {},
   "outputs": [
    {
     "data": {
      "text/plain": [
       "0"
      ]
     },
     "execution_count": 10,
     "metadata": {},
     "output_type": "execute_result"
    }
   ],
   "source": [
    "f1.duplicated().sum()"
   ]
  },
  {
   "cell_type": "markdown",
   "id": "c95eb6c1",
   "metadata": {},
   "source": [
    "### Distribution of Target\n"
   ]
  },
  {
   "cell_type": "code",
   "execution_count": 11,
   "id": "7be42cb3",
   "metadata": {},
   "outputs": [
    {
     "name": "stdout",
     "output_type": "stream",
     "text": [
      "Adelie Penguin (Pygoscelis adeliae)          152\n",
      "Gentoo penguin (Pygoscelis papua)            124\n",
      "Chinstrap penguin (Pygoscelis antarctica)     68\n",
      "Name: Species, dtype: int64\n"
     ]
    },
    {
     "data": {
      "image/png": "[encoded data removed]",
      "text/plain": [
       "<Figure size 720x432 with 1 Axes>"
      ]
     },
     "metadata": {
      "needs_background": "light"
     },
     "output_type": "display_data"
    }
   ],
   "source": [
    "plt.figure(figsize=(10,6))\n",
    "sns.countplot('Species', data=f1).set_title('Distribution of Target Variable')\n",
    "print(f1.Species.value_counts())"
   ]
  },
  {
   "cell_type": "code",
   "execution_count": 12,
   "id": "68f55ad9",
   "metadata": {},
   "outputs": [
    {
     "data": {
      "text/plain": [
       "<seaborn.axisgrid.PairGrid at 0x1ff2f9a9af0>"
      ]
     },
     "execution_count": 12,
     "metadata": {},
     "output_type": "execute_result"
    },
    {
     "data": {
      "image/png": "[encoded data removed]",
      "text/plain": [
       "<Figure size 720x720 with 20 Axes>"
      ]
     },
     "metadata": {
      "needs_background": "light"
     },
     "output_type": "display_data"
    }
   ],
   "source": [
    "sns.pairplot(f1, kind = \"scatter\")"
   ]
  },
  {
   "cell_type": "code",
   "execution_count": 13,
   "id": "a037ab1a",
   "metadata": {},
   "outputs": [
    {
     "data": {
      "text/plain": [
       "Species                 object\n",
       "Region                  object\n",
       "Island                  object\n",
       "Clutch Completion       object\n",
       "Culmen Length (mm)     float64\n",
       "Culmen Depth (mm)      float64\n",
       "Flipper Length (mm)    float64\n",
       "Body Mass (g)          float64\n",
       "dtype: object"
      ]
     },
     "execution_count": 13,
     "metadata": {},
     "output_type": "execute_result"
    }
   ],
   "source": [
    "f1.dtypes"
   ]
  },
  {
   "cell_type": "code",
   "execution_count": 14,
   "id": "e5e1b2c6",
   "metadata": {},
   "outputs": [
    {
     "data": {
      "text/html": [
       "<div>\n",
       "<style scoped>\n",
       "    .dataframe tbody tr th:only-of-type {\n",
       "        vertical-align: middle;\n",
       "    }\n",
       "\n",
       "    .dataframe tbody tr th {\n",
       "        vertical-align: top;\n",
       "    }\n",
       "\n",
       "    .dataframe thead th {\n",
       "        text-align: right;\n",
       "    }\n",
       "</style>\n",
       "<table border=\"1\" class=\"dataframe\">\n",
       "  <thead>\n",
       "    <tr style=\"text-align: right;\">\n",
       "      <th></th>\n",
       "      <th>Species</th>\n",
       "      <th>Region</th>\n",
       "      <th>Island</th>\n",
       "      <th>Clutch Completion</th>\n",
       "      <th>Culmen Length (mm)</th>\n",
       "      <th>Culmen Depth (mm)</th>\n",
       "      <th>Flipper Length (mm)</th>\n",
       "      <th>Body Mass (g)</th>\n",
       "    </tr>\n",
       "  </thead>\n",
       "  <tbody>\n",
       "    <tr>\n",
       "      <th>0</th>\n",
       "      <td>0</td>\n",
       "      <td>Anvers</td>\n",
       "      <td>Torgersen</td>\n",
       "      <td>Yes</td>\n",
       "      <td>39.1</td>\n",
       "      <td>18.7</td>\n",
       "      <td>181.0</td>\n",
       "      <td>3750.0</td>\n",
       "    </tr>\n",
       "    <tr>\n",
       "      <th>1</th>\n",
       "      <td>0</td>\n",
       "      <td>Anvers</td>\n",
       "      <td>Torgersen</td>\n",
       "      <td>Yes</td>\n",
       "      <td>39.5</td>\n",
       "      <td>17.4</td>\n",
       "      <td>186.0</td>\n",
       "      <td>3800.0</td>\n",
       "    </tr>\n",
       "    <tr>\n",
       "      <th>2</th>\n",
       "      <td>0</td>\n",
       "      <td>Anvers</td>\n",
       "      <td>Torgersen</td>\n",
       "      <td>Yes</td>\n",
       "      <td>40.3</td>\n",
       "      <td>18.0</td>\n",
       "      <td>195.0</td>\n",
       "      <td>3250.0</td>\n",
       "    </tr>\n",
       "    <tr>\n",
       "      <th>3</th>\n",
       "      <td>0</td>\n",
       "      <td>Anvers</td>\n",
       "      <td>Torgersen</td>\n",
       "      <td>Yes</td>\n",
       "      <td>41.1</td>\n",
       "      <td>17.0</td>\n",
       "      <td>190.0</td>\n",
       "      <td>3800.0</td>\n",
       "    </tr>\n",
       "    <tr>\n",
       "      <th>4</th>\n",
       "      <td>0</td>\n",
       "      <td>Anvers</td>\n",
       "      <td>Torgersen</td>\n",
       "      <td>Yes</td>\n",
       "      <td>36.7</td>\n",
       "      <td>19.3</td>\n",
       "      <td>193.0</td>\n",
       "      <td>3450.0</td>\n",
       "    </tr>\n",
       "  </tbody>\n",
       "</table>\n",
       "</div>"
      ],
      "text/plain": [
       "   Species  Region     Island Clutch Completion  Culmen Length (mm)  \\\n",
       "0        0  Anvers  Torgersen               Yes                39.1   \n",
       "1        0  Anvers  Torgersen               Yes                39.5   \n",
       "2        0  Anvers  Torgersen               Yes                40.3   \n",
       "3        0  Anvers  Torgersen               Yes                41.1   \n",
       "4        0  Anvers  Torgersen               Yes                36.7   \n",
       "\n",
       "   Culmen Depth (mm)  Flipper Length (mm)  Body Mass (g)  \n",
       "0               18.7                181.0         3750.0  \n",
       "1               17.4                186.0         3800.0  \n",
       "2               18.0                195.0         3250.0  \n",
       "3               17.0                190.0         3800.0  \n",
       "4               19.3                193.0         3450.0  "
      ]
     },
     "execution_count": 14,
     "metadata": {},
     "output_type": "execute_result"
    }
   ],
   "source": [
    "f1[\"Species\"] = f1[\"Species\"].map({'Adelie Penguin (Pygoscelis adeliae)' :0, 'Chinstrap penguin (Pygoscelis antarctica)':1 ,'Gentoo penguin (Pygoscelis papua)':2 }).astype(int) #mapping numbers\n",
    "f1.head()"
   ]
  },
  {
   "cell_type": "code",
   "execution_count": 15,
   "id": "85012285",
   "metadata": {},
   "outputs": [],
   "source": [
    "f1 = pd.get_dummies(f1, columns=['Region','Island', 'Clutch Completion'], prefix=['Region','Island','Clutch Completion'])"
   ]
  },
  {
   "cell_type": "code",
   "execution_count": 16,
   "id": "65eb0c5f",
   "metadata": {},
   "outputs": [
    {
     "data": {
      "text/html": [
       "<div>\n",
       "<style scoped>\n",
       "    .dataframe tbody tr th:only-of-type {\n",
       "        vertical-align: middle;\n",
       "    }\n",
       "\n",
       "    .dataframe tbody tr th {\n",
       "        vertical-align: top;\n",
       "    }\n",
       "\n",
       "    .dataframe thead th {\n",
       "        text-align: right;\n",
       "    }\n",
       "</style>\n",
       "<table border=\"1\" class=\"dataframe\">\n",
       "  <thead>\n",
       "    <tr style=\"text-align: right;\">\n",
       "      <th></th>\n",
       "      <th>Species</th>\n",
       "      <th>Culmen Length (mm)</th>\n",
       "      <th>Culmen Depth (mm)</th>\n",
       "      <th>Flipper Length (mm)</th>\n",
       "      <th>Body Mass (g)</th>\n",
       "      <th>Region_Anvers</th>\n",
       "      <th>Island_Biscoe</th>\n",
       "      <th>Island_Dream</th>\n",
       "      <th>Island_Torgersen</th>\n",
       "      <th>Clutch Completion_No</th>\n",
       "      <th>Clutch Completion_Yes</th>\n",
       "    </tr>\n",
       "  </thead>\n",
       "  <tbody>\n",
       "    <tr>\n",
       "      <th>Species</th>\n",
       "      <td>1.000000</td>\n",
       "      <td>0.727832</td>\n",
       "      <td>-0.741363</td>\n",
       "      <td>0.849256</td>\n",
       "      <td>0.746913</td>\n",
       "      <td>NaN</td>\n",
       "      <td>0.610710</td>\n",
       "      <td>-0.311589</td>\n",
       "      <td>-0.434574</td>\n",
       "      <td>-0.032682</td>\n",
       "      <td>0.032682</td>\n",
       "    </tr>\n",
       "    <tr>\n",
       "      <th>Culmen Length (mm)</th>\n",
       "      <td>0.727832</td>\n",
       "      <td>1.000000</td>\n",
       "      <td>-0.234635</td>\n",
       "      <td>0.656856</td>\n",
       "      <td>0.595720</td>\n",
       "      <td>NaN</td>\n",
       "      <td>0.238366</td>\n",
       "      <td>0.036188</td>\n",
       "      <td>-0.381137</td>\n",
       "      <td>0.035790</td>\n",
       "      <td>-0.035790</td>\n",
       "    </tr>\n",
       "    <tr>\n",
       "      <th>Culmen Depth (mm)</th>\n",
       "      <td>-0.741363</td>\n",
       "      <td>-0.234635</td>\n",
       "      <td>1.000000</td>\n",
       "      <td>-0.582472</td>\n",
       "      <td>-0.471339</td>\n",
       "      <td>NaN</td>\n",
       "      <td>-0.630442</td>\n",
       "      <td>0.455932</td>\n",
       "      <td>0.268633</td>\n",
       "      <td>0.090270</td>\n",
       "      <td>-0.090270</td>\n",
       "    </tr>\n",
       "    <tr>\n",
       "      <th>Flipper Length (mm)</th>\n",
       "      <td>0.849256</td>\n",
       "      <td>0.656856</td>\n",
       "      <td>-0.582472</td>\n",
       "      <td>1.000000</td>\n",
       "      <td>0.871302</td>\n",
       "      <td>NaN</td>\n",
       "      <td>0.608681</td>\n",
       "      <td>-0.416423</td>\n",
       "      <td>-0.291225</td>\n",
       "      <td>-0.113530</td>\n",
       "      <td>0.113530</td>\n",
       "    </tr>\n",
       "    <tr>\n",
       "      <th>Body Mass (g)</th>\n",
       "      <td>0.746913</td>\n",
       "      <td>0.595720</td>\n",
       "      <td>-0.471339</td>\n",
       "      <td>0.871302</td>\n",
       "      <td>1.000000</td>\n",
       "      <td>NaN</td>\n",
       "      <td>0.624998</td>\n",
       "      <td>-0.457121</td>\n",
       "      <td>-0.259444</td>\n",
       "      <td>-0.129598</td>\n",
       "      <td>0.129598</td>\n",
       "    </tr>\n",
       "  </tbody>\n",
       "</table>\n",
       "</div>"
      ],
      "text/plain": [
       "                      Species  Culmen Length (mm)  Culmen Depth (mm)  \\\n",
       "Species              1.000000            0.727832          -0.741363   \n",
       "Culmen Length (mm)   0.727832            1.000000          -0.234635   \n",
       "Culmen Depth (mm)   -0.741363           -0.234635           1.000000   \n",
       "Flipper Length (mm)  0.849256            0.656856          -0.582472   \n",
       "Body Mass (g)        0.746913            0.595720          -0.471339   \n",
       "\n",
       "                     Flipper Length (mm)  Body Mass (g)  Region_Anvers  \\\n",
       "Species                         0.849256       0.746913            NaN   \n",
       "Culmen Length (mm)              0.656856       0.595720            NaN   \n",
       "Culmen Depth (mm)              -0.582472      -0.471339            NaN   \n",
       "Flipper Length (mm)             1.000000       0.871302            NaN   \n",
       "Body Mass (g)                   0.871302       1.000000            NaN   \n",
       "\n",
       "                     Island_Biscoe  Island_Dream  Island_Torgersen  \\\n",
       "Species                   0.610710     -0.311589         -0.434574   \n",
       "Culmen Length (mm)        0.238366      0.036188         -0.381137   \n",
       "Culmen Depth (mm)        -0.630442      0.455932          0.268633   \n",
       "Flipper Length (mm)       0.608681     -0.416423         -0.291225   \n",
       "Body Mass (g)             0.624998     -0.457121         -0.259444   \n",
       "\n",
       "                     Clutch Completion_No  Clutch Completion_Yes  \n",
       "Species                         -0.032682               0.032682  \n",
       "Culmen Length (mm)               0.035790              -0.035790  \n",
       "Culmen Depth (mm)                0.090270              -0.090270  \n",
       "Flipper Length (mm)             -0.113530               0.113530  \n",
       "Body Mass (g)                   -0.129598               0.129598  "
      ]
     },
     "execution_count": 16,
     "metadata": {},
     "output_type": "execute_result"
    },
    {
     "data": {
      "image/png": "[encoded data removed]",
      "text/plain": [
       "<Figure size 1440x720 with 2 Axes>"
      ]
     },
     "metadata": {
      "needs_background": "light"
     },
     "output_type": "display_data"
    }
   ],
   "source": [
    "# Finding the relations between the variables.\n",
    "plt.figure(figsize=(20,10))\n",
    "c= f1.corr()\n",
    "sns.heatmap(c,annot=True)\n",
    "c.head()"
   ]
  },
  {
   "cell_type": "markdown",
   "id": "8e48c344",
   "metadata": {},
   "source": [
    "## Preprocessing"
   ]
  },
  {
   "cell_type": "code",
   "execution_count": 17,
   "id": "f370362c",
   "metadata": {},
   "outputs": [],
   "source": [
    "#pre-processing \n",
    "from sklearn.preprocessing import StandardScaler"
   ]
  },
  {
   "cell_type": "code",
   "execution_count": 18,
   "id": "1e61d408",
   "metadata": {},
   "outputs": [],
   "source": [
    "scaler = StandardScaler()"
   ]
  },
  {
   "cell_type": "code",
   "execution_count": 19,
   "id": "3b287292",
   "metadata": {},
   "outputs": [
    {
     "data": {
      "text/plain": [
       "StandardScaler()"
      ]
     },
     "execution_count": 19,
     "metadata": {},
     "output_type": "execute_result"
    }
   ],
   "source": [
    "scaler.fit(f1.drop(\"Species\", axis=1))"
   ]
  },
  {
   "cell_type": "code",
   "execution_count": 20,
   "id": "2180e952",
   "metadata": {},
   "outputs": [],
   "source": [
    "scaled_features = scaler.transform(f1.drop('Species', axis=1))"
   ]
  },
  {
   "cell_type": "code",
   "execution_count": 21,
   "id": "ef906d9c",
   "metadata": {},
   "outputs": [],
   "source": [
    "X = scaled_features\n",
    "Y = f1[\"Species\"]"
   ]
  },
  {
   "cell_type": "code",
   "execution_count": 22,
   "id": "bafce2b4",
   "metadata": {},
   "outputs": [
    {
     "data": {
      "text/plain": [
       "(344, 344)"
      ]
     },
     "execution_count": 22,
     "metadata": {},
     "output_type": "execute_result"
    }
   ],
   "source": [
    "len(X), len(Y)"
   ]
  },
  {
   "cell_type": "markdown",
   "id": "18534a9e",
   "metadata": {},
   "source": [
    "### Train Test Split"
   ]
  },
  {
   "cell_type": "code",
   "execution_count": 23,
   "id": "85245b59",
   "metadata": {},
   "outputs": [],
   "source": [
    "from sklearn.model_selection import train_test_split\n",
    "X_train, X_test, y_train, y_test = train_test_split(X, Y, test_size=0.1, shuffle = True) "
   ]
  },
  {
   "cell_type": "code",
   "execution_count": 24,
   "id": "82d8fff8",
   "metadata": {},
   "outputs": [
    {
     "name": "stdout",
     "output_type": "stream",
     "text": [
      "(309, 10)\n",
      "(35, 10)\n",
      "(309,)\n",
      "(35,)\n"
     ]
    }
   ],
   "source": [
    "print(X_train.shape)\n",
    "print(X_test.shape)\n",
    "print(y_train.shape)\n",
    "print(y_test.shape)"
   ]
  },
  {
   "cell_type": "markdown",
   "id": "fdf47f9e",
   "metadata": {},
   "source": [
    "## Without Hyper parametre Tunning "
   ]
  },
  {
   "cell_type": "markdown",
   "id": "8c49b6b5",
   "metadata": {},
   "source": [
    "## SVM Classifier"
   ]
  },
  {
   "cell_type": "code",
   "execution_count": 25,
   "id": "54362e29",
   "metadata": {},
   "outputs": [],
   "source": [
    "from sklearn.svm import SVC\n",
    "from sklearn.metrics import accuracy_score"
   ]
  },
  {
   "cell_type": "code",
   "execution_count": 26,
   "id": "90dc37e4",
   "metadata": {},
   "outputs": [],
   "source": [
    "cls = SVC(C=50).fit(X_train, y_train)\n",
    "#C is penalty to model"
   ]
  },
  {
   "cell_type": "code",
   "execution_count": 27,
   "id": "a3c945a4",
   "metadata": {},
   "outputs": [
    {
     "name": "stdout",
     "output_type": "stream",
     "text": [
      "\n",
      "Train Accuracy: 100.00%\n",
      "Test Accuracy: 100.00%\n"
     ]
    }
   ],
   "source": [
    "# train and test accuracy\n",
    "accuracy_train = accuracy_score(y_train, cls.predict(X_train))\n",
    "accuracy_test = accuracy_score(y_test, cls.predict(X_test))\n",
    "\n",
    "print('\\nTrain Accuracy:{: .2f}%'.format(accuracy_train*100))\n",
    "print('Test Accuracy:{: .2f}%'.format(accuracy_test*100))"
   ]
  },
  {
   "cell_type": "code",
   "execution_count": 28,
   "id": "6cd5f7aa",
   "metadata": {},
   "outputs": [
    {
     "name": "stdout",
     "output_type": "stream",
     "text": [
      "              precision    recall  f1-score   support\n",
      "\n",
      "           0       1.00      1.00      1.00        12\n",
      "           1       1.00      1.00      1.00        10\n",
      "           2       1.00      1.00      1.00        13\n",
      "\n",
      "    accuracy                           1.00        35\n",
      "   macro avg       1.00      1.00      1.00        35\n",
      "weighted avg       1.00      1.00      1.00        35\n",
      "\n"
     ]
    }
   ],
   "source": [
    "from sklearn.metrics import classification_report, confusion_matrix\n",
    "print(classification_report(y_test, cls.predict(X_test)))"
   ]
  },
  {
   "cell_type": "markdown",
   "id": "107ed2e3",
   "metadata": {},
   "source": [
    "### Decision Tree"
   ]
  },
  {
   "cell_type": "code",
   "execution_count": 29,
   "id": "2b30f37f",
   "metadata": {},
   "outputs": [
    {
     "name": "stdout",
     "output_type": "stream",
     "text": [
      "Decision Tree Accuracy:94.29%\n"
     ]
    }
   ],
   "source": [
    "#we will use decision tree model for better accuracy \n",
    "from sklearn.tree import DecisionTreeClassifier\n",
    "from sklearn.ensemble import RandomForestClassifier\n",
    "model = DecisionTreeClassifier()\n",
    "model.fit(X_train, y_train)\n",
    "\n",
    "print(\"Decision Tree Accuracy:{:.2f}%\".format(model.score(X_test, y_test) * 100))"
   ]
  },
  {
   "cell_type": "code",
   "execution_count": 30,
   "id": "533be579",
   "metadata": {},
   "outputs": [
    {
     "name": "stdout",
     "output_type": "stream",
     "text": [
      "              precision    recall  f1-score   support\n",
      "\n",
      "           0       0.86      1.00      0.92        12\n",
      "           1       1.00      0.80      0.89        10\n",
      "           2       1.00      1.00      1.00        13\n",
      "\n",
      "    accuracy                           0.94        35\n",
      "   macro avg       0.95      0.93      0.94        35\n",
      "weighted avg       0.95      0.94      0.94        35\n",
      "\n"
     ]
    }
   ],
   "source": [
    "print(classification_report(y_test, model.predict(X_test)))"
   ]
  },
  {
   "cell_type": "markdown",
   "id": "1ec6ced2",
   "metadata": {},
   "source": [
    "## Logistic Regression"
   ]
  },
  {
   "cell_type": "code",
   "execution_count": 31,
   "id": "868477c8",
   "metadata": {},
   "outputs": [
    {
     "data": {
      "text/plain": [
       "LogisticRegression(penalty='l1', solver='liblinear')"
      ]
     },
     "execution_count": 31,
     "metadata": {},
     "output_type": "execute_result"
    }
   ],
   "source": [
    "from sklearn.linear_model import LogisticRegression\n",
    "clf = LogisticRegression(solver = 'liblinear', penalty = 'l1')\n",
    "clf.fit(X_train, y_train)"
   ]
  },
  {
   "cell_type": "code",
   "execution_count": 32,
   "id": "46a1d7e0",
   "metadata": {},
   "outputs": [
    {
     "name": "stdout",
     "output_type": "stream",
     "text": [
      "              precision    recall  f1-score   support\n",
      "\n",
      "           0       0.92      1.00      0.96        12\n",
      "           1       1.00      0.90      0.95        10\n",
      "           2       1.00      1.00      1.00        13\n",
      "\n",
      "    accuracy                           0.97        35\n",
      "   macro avg       0.97      0.97      0.97        35\n",
      "weighted avg       0.97      0.97      0.97        35\n",
      "\n"
     ]
    }
   ],
   "source": [
    "y_pred = clf.predict(X_test)\n",
    "print(classification_report(y_test, y_pred))"
   ]
  },
  {
   "cell_type": "markdown",
   "id": "901b3b25",
   "metadata": {},
   "source": [
    "## Random Forest"
   ]
  },
  {
   "cell_type": "code",
   "execution_count": 33,
   "id": "86d9f129",
   "metadata": {},
   "outputs": [],
   "source": [
    "from sklearn.ensemble import RandomForestClassifier\n",
    "clf = RandomForestClassifier(n_estimators = 100)\n",
    "clf.fit(X_train, y_train)\n",
    "y_pred = clf.predict(X_test)"
   ]
  },
  {
   "cell_type": "code",
   "execution_count": 34,
   "id": "7aae1eff",
   "metadata": {},
   "outputs": [
    {
     "name": "stdout",
     "output_type": "stream",
     "text": [
      "ACCURACY OF THE MODEL:  0.9714285714285714\n"
     ]
    }
   ],
   "source": [
    "from sklearn import metrics\n",
    "print(\"ACCURACY OF THE MODEL: \", metrics.accuracy_score(y_test, y_pred))"
   ]
  },
  {
   "cell_type": "markdown",
   "id": "324007f9",
   "metadata": {},
   "source": [
    "## Grid Search CV"
   ]
  },
  {
   "cell_type": "markdown",
   "id": "90d20a4f",
   "metadata": {},
   "source": [
    "# SVM"
   ]
  },
  {
   "cell_type": "code",
   "execution_count": 35,
   "id": "a81f61fa",
   "metadata": {},
   "outputs": [],
   "source": [
    "# Import necessary packages\n",
    "from sklearn.model_selection import GridSearchCV, RandomizedSearchCV"
   ]
  },
  {
   "cell_type": "code",
   "execution_count": 36,
   "id": "aea00274",
   "metadata": {},
   "outputs": [
    {
     "name": "stdout",
     "output_type": "stream",
     "text": [
      "Fitting 5 folds for each of 25 candidates, totalling 125 fits\n",
      "[CV 1/5] END ....C=0.1, gamma=1, kernel=sigmoid;, score=0.839 total time=   0.0s\n",
      "[CV 2/5] END ....C=0.1, gamma=1, kernel=sigmoid;, score=0.903 total time=   0.0s\n",
      "[CV 3/5] END ....C=0.1, gamma=1, kernel=sigmoid;, score=0.742 total time=   0.0s\n",
      "[CV 4/5] END ....C=0.1, gamma=1, kernel=sigmoid;, score=0.823 total time=   0.0s\n",
      "[CV 5/5] END ....C=0.1, gamma=1, kernel=sigmoid;, score=0.918 total time=   0.0s\n",
      "[CV 1/5] END ..C=0.1, gamma=0.1, kernel=sigmoid;, score=0.984 total time=   0.0s\n",
      "[CV 2/5] END ..C=0.1, gamma=0.1, kernel=sigmoid;, score=1.000 total time=   0.0s\n",
      "[CV 3/5] END ..C=0.1, gamma=0.1, kernel=sigmoid;, score=0.984 total time=   0.0s\n",
      "[CV 4/5] END ..C=0.1, gamma=0.1, kernel=sigmoid;, score=0.952 total time=   0.0s\n",
      "[CV 5/5] END ..C=0.1, gamma=0.1, kernel=sigmoid;, score=0.984 total time=   0.0s\n",
      "[CV 1/5] END .C=0.1, gamma=0.01, kernel=sigmoid;, score=0.823 total time=   0.0s\n",
      "[CV 2/5] END .C=0.1, gamma=0.01, kernel=sigmoid;, score=0.806 total time=   0.0s\n",
      "[CV 3/5] END .C=0.1, gamma=0.01, kernel=sigmoid;, score=0.806 total time=   0.0s\n",
      "[CV 4/5] END .C=0.1, gamma=0.01, kernel=sigmoid;, score=0.806 total time=   0.0s\n",
      "[CV 5/5] END .C=0.1, gamma=0.01, kernel=sigmoid;, score=0.803 total time=   0.0s\n",
      "[CV 1/5] END C=0.1, gamma=0.001, kernel=sigmoid;, score=0.452 total time=   0.0s\n",
      "[CV 2/5] END C=0.1, gamma=0.001, kernel=sigmoid;, score=0.452 total time=   0.0s\n",
      "[CV 3/5] END C=0.1, gamma=0.001, kernel=sigmoid;, score=0.452 total time=   0.0s\n",
      "[CV 4/5] END C=0.1, gamma=0.001, kernel=sigmoid;, score=0.452 total time=   0.0s\n",
      "[CV 5/5] END C=0.1, gamma=0.001, kernel=sigmoid;, score=0.459 total time=   0.0s\n",
      "[CV 1/5] END C=0.1, gamma=0.0001, kernel=sigmoid;, score=0.452 total time=   0.0s\n",
      "[CV 2/5] END C=0.1, gamma=0.0001, kernel=sigmoid;, score=0.452 total time=   0.0s\n",
      "[CV 3/5] END C=0.1, gamma=0.0001, kernel=sigmoid;, score=0.452 total time=   0.0s\n",
      "[CV 4/5] END C=0.1, gamma=0.0001, kernel=sigmoid;, score=0.452 total time=   0.0s\n",
      "[CV 5/5] END C=0.1, gamma=0.0001, kernel=sigmoid;, score=0.459 total time=   0.0s\n",
      "[CV 1/5] END ......C=1, gamma=1, kernel=sigmoid;, score=0.790 total time=   0.0s\n",
      "[CV 2/5] END ......C=1, gamma=1, kernel=sigmoid;, score=0.919 total time=   0.0s\n",
      "[CV 3/5] END ......C=1, gamma=1, kernel=sigmoid;, score=0.726 total time=   0.0s\n",
      "[CV 4/5] END ......C=1, gamma=1, kernel=sigmoid;, score=0.887 total time=   0.0s\n",
      "[CV 5/5] END ......C=1, gamma=1, kernel=sigmoid;, score=0.869 total time=   0.0s\n",
      "[CV 1/5] END ....C=1, gamma=0.1, kernel=sigmoid;, score=0.984 total time=   0.0s\n",
      "[CV 2/5] END ....C=1, gamma=0.1, kernel=sigmoid;, score=0.984 total time=   0.0s\n",
      "[CV 3/5] END ....C=1, gamma=0.1, kernel=sigmoid;, score=0.952 total time=   0.0s\n",
      "[CV 4/5] END ....C=1, gamma=0.1, kernel=sigmoid;, score=0.968 total time=   0.0s\n",
      "[CV 5/5] END ....C=1, gamma=0.1, kernel=sigmoid;, score=0.984 total time=   0.0s\n",
      "[CV 1/5] END ...C=1, gamma=0.01, kernel=sigmoid;, score=0.984 total time=   0.0s\n",
      "[CV 2/5] END ...C=1, gamma=0.01, kernel=sigmoid;, score=1.000 total time=   0.0s\n",
      "[CV 3/5] END ...C=1, gamma=0.01, kernel=sigmoid;, score=1.000 total time=   0.0s\n",
      "[CV 4/5] END ...C=1, gamma=0.01, kernel=sigmoid;, score=0.952 total time=   0.0s\n",
      "[CV 5/5] END ...C=1, gamma=0.01, kernel=sigmoid;, score=0.984 total time=   0.0s\n",
      "[CV 1/5] END ..C=1, gamma=0.001, kernel=sigmoid;, score=0.823 total time=   0.0s\n",
      "[CV 2/5] END ..C=1, gamma=0.001, kernel=sigmoid;, score=0.806 total time=   0.0s\n",
      "[CV 3/5] END ..C=1, gamma=0.001, kernel=sigmoid;, score=0.806 total time=   0.0s\n",
      "[CV 4/5] END ..C=1, gamma=0.001, kernel=sigmoid;, score=0.806 total time=   0.0s\n",
      "[CV 5/5] END ..C=1, gamma=0.001, kernel=sigmoid;, score=0.803 total time=   0.0s\n",
      "[CV 1/5] END .C=1, gamma=0.0001, kernel=sigmoid;, score=0.452 total time=   0.0s\n",
      "[CV 2/5] END .C=1, gamma=0.0001, kernel=sigmoid;, score=0.452 total time=   0.0s\n",
      "[CV 3/5] END .C=1, gamma=0.0001, kernel=sigmoid;, score=0.452 total time=   0.0s\n",
      "[CV 4/5] END .C=1, gamma=0.0001, kernel=sigmoid;, score=0.452 total time=   0.0s\n",
      "[CV 5/5] END .C=1, gamma=0.0001, kernel=sigmoid;, score=0.459 total time=   0.0s\n",
      "[CV 1/5] END .....C=10, gamma=1, kernel=sigmoid;, score=0.871 total time=   0.0s\n",
      "[CV 2/5] END .....C=10, gamma=1, kernel=sigmoid;, score=0.839 total time=   0.0s\n",
      "[CV 3/5] END .....C=10, gamma=1, kernel=sigmoid;, score=0.806 total time=   0.0s\n",
      "[CV 4/5] END .....C=10, gamma=1, kernel=sigmoid;, score=0.887 total time=   0.0s\n",
      "[CV 5/5] END .....C=10, gamma=1, kernel=sigmoid;, score=0.869 total time=   0.0s\n",
      "[CV 1/5] END ...C=10, gamma=0.1, kernel=sigmoid;, score=0.984 total time=   0.0s\n",
      "[CV 2/5] END ...C=10, gamma=0.1, kernel=sigmoid;, score=1.000 total time=   0.0s\n",
      "[CV 3/5] END ...C=10, gamma=0.1, kernel=sigmoid;, score=0.984 total time=   0.0s\n",
      "[CV 4/5] END ...C=10, gamma=0.1, kernel=sigmoid;, score=0.984 total time=   0.0s\n",
      "[CV 5/5] END ...C=10, gamma=0.1, kernel=sigmoid;, score=0.984 total time=   0.0s\n",
      "[CV 1/5] END ..C=10, gamma=0.01, kernel=sigmoid;, score=1.000 total time=   0.0s\n",
      "[CV 2/5] END ..C=10, gamma=0.01, kernel=sigmoid;, score=1.000 total time=   0.0s\n",
      "[CV 3/5] END ..C=10, gamma=0.01, kernel=sigmoid;, score=1.000 total time=   0.0s\n",
      "[CV 4/5] END ..C=10, gamma=0.01, kernel=sigmoid;, score=0.984 total time=   0.0s\n",
      "[CV 5/5] END ..C=10, gamma=0.01, kernel=sigmoid;, score=0.984 total time=   0.0s\n",
      "[CV 1/5] END .C=10, gamma=0.001, kernel=sigmoid;, score=0.984 total time=   0.0s\n",
      "[CV 2/5] END .C=10, gamma=0.001, kernel=sigmoid;, score=1.000 total time=   0.0s\n",
      "[CV 3/5] END .C=10, gamma=0.001, kernel=sigmoid;, score=1.000 total time=   0.0s\n",
      "[CV 4/5] END .C=10, gamma=0.001, kernel=sigmoid;, score=0.952 total time=   0.0s\n",
      "[CV 5/5] END .C=10, gamma=0.001, kernel=sigmoid;, score=0.984 total time=   0.0s\n",
      "[CV 1/5] END C=10, gamma=0.0001, kernel=sigmoid;, score=0.823 total time=   0.0s\n",
      "[CV 2/5] END C=10, gamma=0.0001, kernel=sigmoid;, score=0.806 total time=   0.0s\n",
      "[CV 3/5] END C=10, gamma=0.0001, kernel=sigmoid;, score=0.806 total time=   0.0s\n",
      "[CV 4/5] END C=10, gamma=0.0001, kernel=sigmoid;, score=0.806 total time=   0.0s\n",
      "[CV 5/5] END C=10, gamma=0.0001, kernel=sigmoid;, score=0.803 total time=   0.0s\n",
      "[CV 1/5] END ....C=100, gamma=1, kernel=sigmoid;, score=0.871 total time=   0.0s\n",
      "[CV 2/5] END ....C=100, gamma=1, kernel=sigmoid;, score=0.839 total time=   0.0s\n",
      "[CV 3/5] END ....C=100, gamma=1, kernel=sigmoid;, score=0.823 total time=   0.0s\n",
      "[CV 4/5] END ....C=100, gamma=1, kernel=sigmoid;, score=0.887 total time=   0.0s\n",
      "[CV 5/5] END ....C=100, gamma=1, kernel=sigmoid;, score=0.885 total time=   0.0s\n",
      "[CV 1/5] END ..C=100, gamma=0.1, kernel=sigmoid;, score=0.984 total time=   0.0s\n",
      "[CV 2/5] END ..C=100, gamma=0.1, kernel=sigmoid;, score=0.984 total time=   0.0s\n",
      "[CV 3/5] END ..C=100, gamma=0.1, kernel=sigmoid;, score=1.000 total time=   0.0s\n",
      "[CV 4/5] END ..C=100, gamma=0.1, kernel=sigmoid;, score=0.984 total time=   0.0s\n",
      "[CV 5/5] END ..C=100, gamma=0.1, kernel=sigmoid;, score=0.984 total time=   0.0s\n",
      "[CV 1/5] END .C=100, gamma=0.01, kernel=sigmoid;, score=0.984 total time=   0.0s\n",
      "[CV 2/5] END .C=100, gamma=0.01, kernel=sigmoid;, score=1.000 total time=   0.0s\n",
      "[CV 3/5] END .C=100, gamma=0.01, kernel=sigmoid;, score=1.000 total time=   0.0s\n",
      "[CV 4/5] END .C=100, gamma=0.01, kernel=sigmoid;, score=0.984 total time=   0.0s\n",
      "[CV 5/5] END .C=100, gamma=0.01, kernel=sigmoid;, score=0.984 total time=   0.0s\n",
      "[CV 1/5] END C=100, gamma=0.001, kernel=sigmoid;, score=1.000 total time=   0.0s\n",
      "[CV 2/5] END C=100, gamma=0.001, kernel=sigmoid;, score=1.000 total time=   0.0s\n",
      "[CV 3/5] END C=100, gamma=0.001, kernel=sigmoid;, score=1.000 total time=   0.0s\n",
      "[CV 4/5] END C=100, gamma=0.001, kernel=sigmoid;, score=0.984 total time=   0.0s\n",
      "[CV 5/5] END C=100, gamma=0.001, kernel=sigmoid;, score=0.984 total time=   0.0s\n",
      "[CV 1/5] END C=100, gamma=0.0001, kernel=sigmoid;, score=0.984 total time=   0.0s\n",
      "[CV 2/5] END C=100, gamma=0.0001, kernel=sigmoid;, score=1.000 total time=   0.0s\n",
      "[CV 3/5] END C=100, gamma=0.0001, kernel=sigmoid;, score=1.000 total time=   0.0s\n",
      "[CV 4/5] END C=100, gamma=0.0001, kernel=sigmoid;, score=0.952 total time=   0.0s\n",
      "[CV 5/5] END C=100, gamma=0.0001, kernel=sigmoid;, score=0.984 total time=   0.0s\n",
      "[CV 1/5] END ...C=1000, gamma=1, kernel=sigmoid;, score=0.871 total time=   0.0s\n",
      "[CV 2/5] END ...C=1000, gamma=1, kernel=sigmoid;, score=0.839 total time=   0.0s\n",
      "[CV 3/5] END ...C=1000, gamma=1, kernel=sigmoid;, score=0.871 total time=   0.0s\n",
      "[CV 4/5] END ...C=1000, gamma=1, kernel=sigmoid;, score=0.871 total time=   0.0s\n",
      "[CV 5/5] END ...C=1000, gamma=1, kernel=sigmoid;, score=0.869 total time=   0.0s\n"
     ]
    },
    {
     "name": "stdout",
     "output_type": "stream",
     "text": [
      "[CV 1/5] END .C=1000, gamma=0.1, kernel=sigmoid;, score=0.968 total time=   0.0s\n",
      "[CV 2/5] END .C=1000, gamma=0.1, kernel=sigmoid;, score=0.968 total time=   0.0s\n",
      "[CV 3/5] END .C=1000, gamma=0.1, kernel=sigmoid;, score=0.984 total time=   0.0s\n",
      "[CV 4/5] END .C=1000, gamma=0.1, kernel=sigmoid;, score=0.984 total time=   0.0s\n",
      "[CV 5/5] END .C=1000, gamma=0.1, kernel=sigmoid;, score=0.984 total time=   0.0s\n",
      "[CV 1/5] END C=1000, gamma=0.01, kernel=sigmoid;, score=1.000 total time=   0.0s\n",
      "[CV 2/5] END C=1000, gamma=0.01, kernel=sigmoid;, score=1.000 total time=   0.0s\n",
      "[CV 3/5] END C=1000, gamma=0.01, kernel=sigmoid;, score=1.000 total time=   0.0s\n",
      "[CV 4/5] END C=1000, gamma=0.01, kernel=sigmoid;, score=0.984 total time=   0.0s\n",
      "[CV 5/5] END C=1000, gamma=0.01, kernel=sigmoid;, score=0.984 total time=   0.0s\n",
      "[CV 1/5] END C=1000, gamma=0.001, kernel=sigmoid;, score=0.984 total time=   0.0s\n",
      "[CV 2/5] END C=1000, gamma=0.001, kernel=sigmoid;, score=1.000 total time=   0.0s\n",
      "[CV 3/5] END C=1000, gamma=0.001, kernel=sigmoid;, score=1.000 total time=   0.0s\n",
      "[CV 4/5] END C=1000, gamma=0.001, kernel=sigmoid;, score=0.984 total time=   0.0s\n",
      "[CV 5/5] END C=1000, gamma=0.001, kernel=sigmoid;, score=0.984 total time=   0.0s\n",
      "[CV 1/5] END C=1000, gamma=0.0001, kernel=sigmoid;, score=1.000 total time=   0.0s\n",
      "[CV 2/5] END C=1000, gamma=0.0001, kernel=sigmoid;, score=1.000 total time=   0.0s\n",
      "[CV 3/5] END C=1000, gamma=0.0001, kernel=sigmoid;, score=1.000 total time=   0.0s\n",
      "[CV 4/5] END C=1000, gamma=0.0001, kernel=sigmoid;, score=0.984 total time=   0.0s\n",
      "[CV 5/5] END C=1000, gamma=0.0001, kernel=sigmoid;, score=0.984 total time=   0.0s\n"
     ]
    },
    {
     "data": {
      "text/plain": [
       "GridSearchCV(estimator=SVC(),\n",
       "             param_grid={'C': [0.1, 1, 10, 100, 1000],\n",
       "                         'gamma': [1, 0.1, 0.01, 0.001, 0.0001],\n",
       "                         'kernel': ['sigmoid']},\n",
       "             verbose=3)"
      ]
     },
     "execution_count": 36,
     "metadata": {},
     "output_type": "execute_result"
    }
   ],
   "source": [
    "# defining parameter range\n",
    "param_grid = {'C': [0.1, 1, 10, 100, 1000],'gamma': [1, 0.1, 0.01, 0.001, 0.0001],'kernel': ['sigmoid']}\n",
    "# Grid Search CV\n",
    "grid_svm = GridSearchCV(SVC(), param_grid, refit = True, verbose = 3)\n",
    "\n",
    "\n",
    "# fitting the model for grid search\n",
    "grid_svm.fit(X_train, y_train)\n"
   ]
  },
  {
   "cell_type": "code",
   "execution_count": 37,
   "id": "287c1d5a",
   "metadata": {},
   "outputs": [
    {
     "name": "stdout",
     "output_type": "stream",
     "text": [
      "Best Paramter After tunning: {'C': 10, 'gamma': 0.01, 'kernel': 'sigmoid'}\n",
      "Model After Tunning: SVC(C=10, gamma=0.01, kernel='sigmoid')\n"
     ]
    }
   ],
   "source": [
    "# print best parameter after tuning\n",
    "print(\"Best Paramter After tunning:\", grid_svm.best_params_)\n",
    "\n",
    "# print how our model looks after hyper-parameter tuning\n",
    "print(\"Model After Tunning:\", grid_svm.best_estimator_)\n"
   ]
  },
  {
   "cell_type": "code",
   "execution_count": 38,
   "id": "182f39af",
   "metadata": {},
   "outputs": [
    {
     "name": "stdout",
     "output_type": "stream",
     "text": [
      "              precision    recall  f1-score   support\n",
      "\n",
      "           0       0.92      1.00      0.96        12\n",
      "           1       1.00      0.90      0.95        10\n",
      "           2       1.00      1.00      1.00        13\n",
      "\n",
      "    accuracy                           0.97        35\n",
      "   macro avg       0.97      0.97      0.97        35\n",
      "weighted avg       0.97      0.97      0.97        35\n",
      "\n"
     ]
    }
   ],
   "source": [
    "grid_predictions_svm = grid_svm.predict(X_test)\n",
    "\n",
    "# print classification report\n",
    "print(classification_report(y_test, grid_predictions_svm))\n"
   ]
  },
  {
   "cell_type": "markdown",
   "id": "2234bc69",
   "metadata": {},
   "source": [
    "# Logistic Regression"
   ]
  },
  {
   "cell_type": "code",
   "execution_count": 39,
   "id": "bc2e2955",
   "metadata": {},
   "outputs": [],
   "source": [
    "# parameter grid\n",
    "parameters_svm = {\n",
    "    'penalty' : ['l1','l2'], \n",
    "    'C'       : np.logspace(-3,3,7),\n",
    "    'solver'  : ['newton-cg', 'lbfgs', 'liblinear'],\n",
    "}\n"
   ]
  },
  {
   "cell_type": "code",
   "execution_count": 40,
   "id": "07cc6680",
   "metadata": {},
   "outputs": [],
   "source": [
    "logreg = LogisticRegression()\n",
    "clf_svm = GridSearchCV(logreg,                    # model\n",
    "                   param_grid = parameters_svm,   # hyperparameters\n",
    "                   scoring='accuracy',        # metric for scoring\n",
    "                   cv=10)        "
   ]
  },
  {
   "cell_type": "code",
   "execution_count": 41,
   "id": "456fe5fe",
   "metadata": {},
   "outputs": [
    {
     "data": {
      "text/plain": [
       "GridSearchCV(cv=10, estimator=LogisticRegression(),\n",
       "             param_grid={'C': array([1.e-03, 1.e-02, 1.e-01, 1.e+00, 1.e+01, 1.e+02, 1.e+03]),\n",
       "                         'penalty': ['l1', 'l2'],\n",
       "                         'solver': ['newton-cg', 'lbfgs', 'liblinear']},\n",
       "             scoring='accuracy')"
      ]
     },
     "execution_count": 41,
     "metadata": {},
     "output_type": "execute_result"
    }
   ],
   "source": [
    "clf_svm.fit(X_train,y_train)"
   ]
  },
  {
   "cell_type": "code",
   "execution_count": 42,
   "id": "7764a5a8",
   "metadata": {},
   "outputs": [
    {
     "name": "stdout",
     "output_type": "stream",
     "text": [
      "Best Tuned Hyperparameters : {'C': 10.0, 'penalty': 'l1', 'solver': 'liblinear'}\n",
      "Accuracy at Tunned Hyperparameters : 0.9966666666666667\n"
     ]
    }
   ],
   "source": [
    "print(\"Best Tuned Hyperparameters :\", clf_svm.best_params_)\n",
    "print(\"Accuracy at Tunned Hyperparameters :\",clf_svm.best_score_)"
   ]
  },
  {
   "cell_type": "markdown",
   "id": "5b1a51f0",
   "metadata": {},
   "source": [
    "# Random Forest"
   ]
  },
  {
   "cell_type": "code",
   "execution_count": 43,
   "id": "71837188",
   "metadata": {},
   "outputs": [],
   "source": [
    "rfc = RandomForestClassifier(random_state=42)"
   ]
  },
  {
   "cell_type": "code",
   "execution_count": 44,
   "id": "8159ddbf",
   "metadata": {},
   "outputs": [],
   "source": [
    "param_grid_rfc = { \n",
    "    'n_estimators': [200, 500],\n",
    "    'max_features': ['auto', 'sqrt', 'log2'],\n",
    "    'max_depth' : [4,5,6,7,8],\n",
    "    'criterion' :['gini', 'entropy']\n",
    "}"
   ]
  },
  {
   "cell_type": "code",
   "execution_count": 45,
   "id": "09ee6c92",
   "metadata": {},
   "outputs": [
    {
     "data": {
      "text/plain": [
       "GridSearchCV(cv=5, estimator=RandomForestClassifier(random_state=42),\n",
       "             param_grid={'criterion': ['gini', 'entropy'],\n",
       "                         'max_depth': [4, 5, 6, 7, 8],\n",
       "                         'max_features': ['auto', 'sqrt', 'log2'],\n",
       "                         'n_estimators': [200, 500]})"
      ]
     },
     "execution_count": 45,
     "metadata": {},
     "output_type": "execute_result"
    }
   ],
   "source": [
    "CV_rfc = GridSearchCV(estimator=rfc, param_grid=param_grid_rfc, cv= 5)\n",
    "CV_rfc.fit(X_train, y_train)"
   ]
  },
  {
   "cell_type": "code",
   "execution_count": 46,
   "id": "b2a3ee71",
   "metadata": {},
   "outputs": [
    {
     "data": {
      "text/plain": [
       "{'criterion': 'gini',\n",
       " 'max_depth': 4,\n",
       " 'max_features': 'auto',\n",
       " 'n_estimators': 200}"
      ]
     },
     "execution_count": 46,
     "metadata": {},
     "output_type": "execute_result"
    }
   ],
   "source": [
    "CV_rfc.best_params_"
   ]
  },
  {
   "cell_type": "markdown",
   "id": "9e0f4486",
   "metadata": {},
   "source": [
    "### Model with Best Parameters"
   ]
  },
  {
   "cell_type": "code",
   "execution_count": 47,
   "id": "7871da59",
   "metadata": {},
   "outputs": [],
   "source": [
    "rfc1=RandomForestClassifier(random_state=42, max_features='auto', n_estimators= 200, max_depth=4, criterion='gini')"
   ]
  },
  {
   "cell_type": "code",
   "execution_count": 48,
   "id": "65198455",
   "metadata": {},
   "outputs": [
    {
     "data": {
      "text/plain": [
       "RandomForestClassifier(max_depth=4, n_estimators=200, random_state=42)"
      ]
     },
     "execution_count": 48,
     "metadata": {},
     "output_type": "execute_result"
    }
   ],
   "source": [
    "rfc1.fit(X_train, y_train)"
   ]
  },
  {
   "cell_type": "code",
   "execution_count": 49,
   "id": "528f8ab8",
   "metadata": {},
   "outputs": [],
   "source": [
    "pred_rfc=rfc1.predict(X_test)"
   ]
  },
  {
   "cell_type": "code",
   "execution_count": 50,
   "id": "d3d735b6",
   "metadata": {},
   "outputs": [
    {
     "name": "stdout",
     "output_type": "stream",
     "text": [
      "Accuracy for Random Forest on CV data:  0.9428571428571428\n"
     ]
    }
   ],
   "source": [
    "print(\"Accuracy for Random Forest on CV data: \",accuracy_score(y_test,pred_rfc))"
   ]
  },
  {
   "cell_type": "markdown",
   "id": "a1ecea91",
   "metadata": {},
   "source": [
    "# Decision Tree "
   ]
  },
  {
   "cell_type": "code",
   "execution_count": 51,
   "id": "62a5c347",
   "metadata": {},
   "outputs": [],
   "source": [
    "dt =DecisionTreeClassifier(random_state=42)"
   ]
  },
  {
   "cell_type": "code",
   "execution_count": 52,
   "id": "f147b63f",
   "metadata": {},
   "outputs": [],
   "source": [
    "param_grid_dt = { 'criterion':['gini','entropy'],'max_depth': np.arange(3, 15), }"
   ]
  },
  {
   "cell_type": "code",
   "execution_count": 53,
   "id": "0c664e49",
   "metadata": {},
   "outputs": [
    {
     "data": {
      "text/plain": [
       "GridSearchCV(cv=5, estimator=DecisionTreeClassifier(random_state=42),\n",
       "             param_grid={'criterion': ['gini', 'entropy'],\n",
       "                         'max_depth': array([ 3,  4,  5,  6,  7,  8,  9, 10, 11, 12, 13, 14])})"
      ]
     },
     "execution_count": 53,
     "metadata": {},
     "output_type": "execute_result"
    }
   ],
   "source": [
    "CV_dt = GridSearchCV(estimator=dt, param_grid=param_grid_dt, cv= 5)\n",
    "CV_dt.fit(X_train, y_train)"
   ]
  },
  {
   "cell_type": "code",
   "execution_count": 54,
   "id": "7e0dd1ed",
   "metadata": {},
   "outputs": [
    {
     "data": {
      "text/plain": [
       "{'criterion': 'entropy', 'max_depth': 5}"
      ]
     },
     "execution_count": 54,
     "metadata": {},
     "output_type": "execute_result"
    }
   ],
   "source": [
    "CV_dt.best_params_"
   ]
  },
  {
   "cell_type": "markdown",
   "id": "9ddb9b11",
   "metadata": {},
   "source": [
    "### Model with best Parameters"
   ]
  },
  {
   "cell_type": "code",
   "execution_count": 55,
   "id": "562c895f",
   "metadata": {},
   "outputs": [],
   "source": [
    "dt1 =DecisionTreeClassifier(random_state=42, max_depth=4, criterion='entropy')"
   ]
  },
  {
   "cell_type": "code",
   "execution_count": 56,
   "id": "9c0680cd",
   "metadata": {},
   "outputs": [
    {
     "data": {
      "text/plain": [
       "DecisionTreeClassifier(criterion='entropy', max_depth=4, random_state=42)"
      ]
     },
     "execution_count": 56,
     "metadata": {},
     "output_type": "execute_result"
    }
   ],
   "source": [
    "dt1.fit(X_train, y_train)"
   ]
  },
  {
   "cell_type": "code",
   "execution_count": 57,
   "id": "0d326129",
   "metadata": {},
   "outputs": [],
   "source": [
    "pred_dt1 =dt1.predict(X_test)"
   ]
  },
  {
   "cell_type": "code",
   "execution_count": 58,
   "id": "4b924f11",
   "metadata": {},
   "outputs": [
    {
     "name": "stdout",
     "output_type": "stream",
     "text": [
      "Accuracy for Random Forest on CV data:  0.9428571428571428\n"
     ]
    }
   ],
   "source": [
    "print(\"Accuracy for Random Forest on CV data: \",accuracy_score(y_test,pred_dt1))"
   ]
  },
  {
   "cell_type": "markdown",
   "id": "c1d57850",
   "metadata": {},
   "source": [
    "# Randomized SearchCV"
   ]
  },
  {
   "cell_type": "markdown",
   "id": "9669f961",
   "metadata": {},
   "source": [
    "# 1.Support Vector Machine"
   ]
  },
  {
   "cell_type": "code",
   "execution_count": 59,
   "id": "caca05a5",
   "metadata": {},
   "outputs": [
    {
     "name": "stdout",
     "output_type": "stream",
     "text": [
      "Fitting 5 folds for each of 10 candidates, totalling 50 fits\n",
      "[CV 1/5] END C=0.1, gamma=0.001, kernel=sigmoid;, score=0.452 total time=   0.0s\n",
      "[CV 2/5] END C=0.1, gamma=0.001, kernel=sigmoid;, score=0.452 total time=   0.0s\n",
      "[CV 3/5] END C=0.1, gamma=0.001, kernel=sigmoid;, score=0.452 total time=   0.0s\n",
      "[CV 4/5] END C=0.1, gamma=0.001, kernel=sigmoid;, score=0.452 total time=   0.0s\n",
      "[CV 5/5] END C=0.1, gamma=0.001, kernel=sigmoid;, score=0.459 total time=   0.0s\n",
      "[CV 1/5] END ...C=1, gamma=0.01, kernel=sigmoid;, score=0.984 total time=   0.0s\n",
      "[CV 2/5] END ...C=1, gamma=0.01, kernel=sigmoid;, score=1.000 total time=   0.0s\n",
      "[CV 3/5] END ...C=1, gamma=0.01, kernel=sigmoid;, score=1.000 total time=   0.0s\n",
      "[CV 4/5] END ...C=1, gamma=0.01, kernel=sigmoid;, score=0.952 total time=   0.0s\n",
      "[CV 5/5] END ...C=1, gamma=0.01, kernel=sigmoid;, score=0.984 total time=   0.0s\n",
      "[CV 1/5] END C=10, gamma=0.0001, kernel=sigmoid;, score=0.823 total time=   0.0s\n",
      "[CV 2/5] END C=10, gamma=0.0001, kernel=sigmoid;, score=0.806 total time=   0.0s\n",
      "[CV 3/5] END C=10, gamma=0.0001, kernel=sigmoid;, score=0.806 total time=   0.0s\n",
      "[CV 4/5] END C=10, gamma=0.0001, kernel=sigmoid;, score=0.806 total time=   0.0s\n",
      "[CV 5/5] END C=10, gamma=0.0001, kernel=sigmoid;, score=0.803 total time=   0.0s\n",
      "[CV 1/5] END .C=1, gamma=0.0001, kernel=sigmoid;, score=0.452 total time=   0.0s\n",
      "[CV 2/5] END .C=1, gamma=0.0001, kernel=sigmoid;, score=0.452 total time=   0.0s\n",
      "[CV 3/5] END .C=1, gamma=0.0001, kernel=sigmoid;, score=0.452 total time=   0.0s\n",
      "[CV 4/5] END .C=1, gamma=0.0001, kernel=sigmoid;, score=0.452 total time=   0.0s\n",
      "[CV 5/5] END .C=1, gamma=0.0001, kernel=sigmoid;, score=0.459 total time=   0.0s\n",
      "[CV 1/5] END C=0.1, gamma=0.0001, kernel=sigmoid;, score=0.452 total time=   0.0s\n",
      "[CV 2/5] END C=0.1, gamma=0.0001, kernel=sigmoid;, score=0.452 total time=   0.0s\n",
      "[CV 3/5] END C=0.1, gamma=0.0001, kernel=sigmoid;, score=0.452 total time=   0.0s\n",
      "[CV 4/5] END C=0.1, gamma=0.0001, kernel=sigmoid;, score=0.452 total time=   0.0s\n",
      "[CV 5/5] END C=0.1, gamma=0.0001, kernel=sigmoid;, score=0.459 total time=   0.0s\n",
      "[CV 1/5] END ...C=10, gamma=0.1, kernel=sigmoid;, score=0.984 total time=   0.0s\n",
      "[CV 2/5] END ...C=10, gamma=0.1, kernel=sigmoid;, score=1.000 total time=   0.0s\n",
      "[CV 3/5] END ...C=10, gamma=0.1, kernel=sigmoid;, score=0.984 total time=   0.0s\n",
      "[CV 4/5] END ...C=10, gamma=0.1, kernel=sigmoid;, score=0.984 total time=   0.0s\n",
      "[CV 5/5] END ...C=10, gamma=0.1, kernel=sigmoid;, score=0.984 total time=   0.0s\n",
      "[CV 1/5] END ....C=100, gamma=1, kernel=sigmoid;, score=0.871 total time=   0.0s\n",
      "[CV 2/5] END ....C=100, gamma=1, kernel=sigmoid;, score=0.839 total time=   0.0s\n",
      "[CV 3/5] END ....C=100, gamma=1, kernel=sigmoid;, score=0.823 total time=   0.0s\n",
      "[CV 4/5] END ....C=100, gamma=1, kernel=sigmoid;, score=0.887 total time=   0.0s\n",
      "[CV 5/5] END ....C=100, gamma=1, kernel=sigmoid;, score=0.885 total time=   0.0s\n",
      "[CV 1/5] END ..C=1, gamma=0.001, kernel=sigmoid;, score=0.823 total time=   0.0s\n",
      "[CV 2/5] END ..C=1, gamma=0.001, kernel=sigmoid;, score=0.806 total time=   0.0s\n",
      "[CV 3/5] END ..C=1, gamma=0.001, kernel=sigmoid;, score=0.806 total time=   0.0s\n",
      "[CV 4/5] END ..C=1, gamma=0.001, kernel=sigmoid;, score=0.806 total time=   0.0s\n",
      "[CV 5/5] END ..C=1, gamma=0.001, kernel=sigmoid;, score=0.803 total time=   0.0s\n",
      "[CV 1/5] END ..C=10, gamma=0.01, kernel=sigmoid;, score=1.000 total time=   0.0s\n",
      "[CV 2/5] END ..C=10, gamma=0.01, kernel=sigmoid;, score=1.000 total time=   0.0s\n",
      "[CV 3/5] END ..C=10, gamma=0.01, kernel=sigmoid;, score=1.000 total time=   0.0s\n",
      "[CV 4/5] END ..C=10, gamma=0.01, kernel=sigmoid;, score=0.984 total time=   0.0s\n",
      "[CV 5/5] END ..C=10, gamma=0.01, kernel=sigmoid;, score=0.984 total time=   0.0s\n",
      "[CV 1/5] END ...C=1000, gamma=1, kernel=sigmoid;, score=0.871 total time=   0.0s\n",
      "[CV 2/5] END ...C=1000, gamma=1, kernel=sigmoid;, score=0.839 total time=   0.0s\n",
      "[CV 3/5] END ...C=1000, gamma=1, kernel=sigmoid;, score=0.871 total time=   0.0s\n",
      "[CV 4/5] END ...C=1000, gamma=1, kernel=sigmoid;, score=0.871 total time=   0.0s\n",
      "[CV 5/5] END ...C=1000, gamma=1, kernel=sigmoid;, score=0.869 total time=   0.0s\n"
     ]
    },
    {
     "data": {
      "text/plain": [
       "RandomizedSearchCV(estimator=SVC(),\n",
       "                   param_distributions={'C': [0.1, 1, 10, 100, 1000],\n",
       "                                        'gamma': [1, 0.1, 0.01, 0.001, 0.0001],\n",
       "                                        'kernel': ['sigmoid']},\n",
       "                   verbose=3)"
      ]
     },
     "execution_count": 59,
     "metadata": {},
     "output_type": "execute_result"
    }
   ],
   "source": [
    "param_grid = {'C': [0.1, 1, 10, 100, 1000],'gamma': [1, 0.1, 0.01, 0.001, 0.0001],'kernel': ['sigmoid']}\n",
    "Random_svm = RandomizedSearchCV(SVC(), param_grid, refit = True, verbose = 3)\n",
    "Random_svm.fit(X_train, y_train)"
   ]
  },
  {
   "cell_type": "code",
   "execution_count": 60,
   "id": "5f84eece",
   "metadata": {},
   "outputs": [
    {
     "name": "stdout",
     "output_type": "stream",
     "text": [
      "Best Paramter After tunning: {'kernel': 'sigmoid', 'gamma': 0.01, 'C': 10}\n",
      "Model After Tunning: SVC(C=10, gamma=0.01, kernel='sigmoid')\n"
     ]
    }
   ],
   "source": [
    "# print best parameter after tuning\n",
    "print(\"Best Paramter After tunning:\", Random_svm.best_params_)\n",
    "\n",
    "# print how our model looks after hyper-parameter tuning\n",
    "print(\"Model After Tunning:\", Random_svm.best_estimator_)\n"
   ]
  },
  {
   "cell_type": "code",
   "execution_count": 61,
   "id": "1b443bcc",
   "metadata": {},
   "outputs": [
    {
     "name": "stdout",
     "output_type": "stream",
     "text": [
      "              precision    recall  f1-score   support\n",
      "\n",
      "           0       0.92      1.00      0.96        12\n",
      "           1       1.00      0.90      0.95        10\n",
      "           2       1.00      1.00      1.00        13\n",
      "\n",
      "    accuracy                           0.97        35\n",
      "   macro avg       0.97      0.97      0.97        35\n",
      "weighted avg       0.97      0.97      0.97        35\n",
      "\n"
     ]
    }
   ],
   "source": [
    "random_predictions_svm = Random_svm.predict(X_test)\n",
    "\n",
    "# print classification report\n",
    "print(classification_report(y_test, random_predictions_svm))"
   ]
  },
  {
   "cell_type": "markdown",
   "id": "79826146",
   "metadata": {},
   "source": [
    "# 2. Logistic Regression"
   ]
  },
  {
   "cell_type": "code",
   "execution_count": 62,
   "id": "5ee06456",
   "metadata": {},
   "outputs": [
    {
     "data": {
      "text/plain": [
       "RandomizedSearchCV(estimator=LogisticRegression(max_iter=200, random_state=0,\n",
       "                                                solver='saga', tol=0.01),\n",
       "                   param_distributions={'C': <scipy.stats._distn_infrastructure.rv_frozen object at 0x000001FF30D8DD90>,\n",
       "                                        'penalty': ['l2', 'l1']},\n",
       "                   random_state=0)"
      ]
     },
     "execution_count": 62,
     "metadata": {},
     "output_type": "execute_result"
    }
   ],
   "source": [
    "from scipy.stats import uniform\n",
    "logistic = LogisticRegression(solver='saga', tol=1e-2, max_iter=200, random_state=0)\n",
    "distributions = dict(C= uniform(loc=0, scale=4),\n",
    "                     penalty=['l2', 'l1'])\n",
    "log_random = RandomizedSearchCV(logistic, distributions, random_state=0)\n",
    "log_random.fit(X_train, y_train)"
   ]
  },
  {
   "cell_type": "code",
   "execution_count": 63,
   "id": "1675d96e",
   "metadata": {},
   "outputs": [
    {
     "name": "stdout",
     "output_type": "stream",
     "text": [
      "Best Tuned Hyperparameters : {'C': 2.195254015709299, 'penalty': 'l1'}\n",
      "Accuracy at Tunned Hyperparameters : 0.9934955050237969\n"
     ]
    }
   ],
   "source": [
    "print(\"Best Tuned Hyperparameters :\", log_random.best_params_)\n",
    "print(\"Accuracy at Tunned Hyperparameters :\",log_random.best_score_)"
   ]
  },
  {
   "cell_type": "markdown",
   "id": "c146f634",
   "metadata": {},
   "source": [
    "# 3.Random Forest"
   ]
  },
  {
   "cell_type": "code",
   "execution_count": 64,
   "id": "54a40df6",
   "metadata": {},
   "outputs": [
    {
     "name": "stdout",
     "output_type": "stream",
     "text": [
      "{'n_estimators': [200, 400, 600, 800, 1000, 1200, 1400, 1600, 1800, 2000], 'max_features': ['auto', 'sqrt'], 'max_depth': [10, 20, 30, 40, 50, 60, 70, 80, 90, 100, 110, None], 'min_samples_split': [2, 5, 10], 'min_samples_leaf': [1, 2, 4], 'bootstrap': [True, False]}\n"
     ]
    }
   ],
   "source": [
    "from sklearn.model_selection import RandomizedSearchCV\n",
    "from sklearn.ensemble import RandomForestRegressor\n",
    "\n",
    "# Number of trees in random forest\n",
    "n_estimators = [int(x) for x in np.linspace(start = 200, stop = 2000, num = 10)]\n",
    "# Number of features to consider at every split\n",
    "max_features = ['auto', 'sqrt']\n",
    "# Maximum number of levels in tree\n",
    "max_depth = [int(x) for x in np.linspace(10, 110, num = 11)]\n",
    "max_depth.append(None)\n",
    "# Minimum number of samples required to split a node\n",
    "min_samples_split = [2, 5, 10]\n",
    "# Minimum number of samples required at each leaf node\n",
    "min_samples_leaf = [1, 2, 4]\n",
    "# Method of selecting samples for training each tree\n",
    "bootstrap = [True, False]\n",
    "# Create the random grid\n",
    "random_grid = {'n_estimators': n_estimators,\n",
    "               'max_features': max_features,\n",
    "               'max_depth': max_depth,\n",
    "               'min_samples_split': min_samples_split,\n",
    "               'min_samples_leaf': min_samples_leaf,\n",
    "               'bootstrap': bootstrap}\n",
    "print(random_grid)"
   ]
  },
  {
   "cell_type": "code",
   "execution_count": 65,
   "id": "97675193",
   "metadata": {},
   "outputs": [
    {
     "name": "stdout",
     "output_type": "stream",
     "text": [
      "Fitting 3 folds for each of 100 candidates, totalling 300 fits\n"
     ]
    },
    {
     "data": {
      "text/plain": [
       "RandomizedSearchCV(cv=3, estimator=RandomForestRegressor(), n_iter=100,\n",
       "                   n_jobs=-1,\n",
       "                   param_distributions={'bootstrap': [True, False],\n",
       "                                        'max_depth': [10, 20, 30, 40, 50, 60,\n",
       "                                                      70, 80, 90, 100, 110,\n",
       "                                                      None],\n",
       "                                        'max_features': ['auto', 'sqrt'],\n",
       "                                        'min_samples_leaf': [1, 2, 4],\n",
       "                                        'min_samples_split': [2, 5, 10],\n",
       "                                        'n_estimators': [200, 400, 600, 800,\n",
       "                                                         1000, 1200, 1400, 1600,\n",
       "                                                         1800, 2000]},\n",
       "                   random_state=42, verbose=2)"
      ]
     },
     "execution_count": 65,
     "metadata": {},
     "output_type": "execute_result"
    }
   ],
   "source": [
    "# Use the random grid to search for best hyperparameters\n",
    "# First create the base model to tune\n",
    "rf = RandomForestRegressor()\n",
    "# Random search of parameters, using 3 fold cross validation, \n",
    "# search across 100 different combinations, and use all available cores\n",
    "rf_random = RandomizedSearchCV(estimator = rf, param_distributions = random_grid, n_iter = 100, cv = 3, verbose=2, random_state=42, n_jobs = -1)\n",
    "# Fit the random search model\n",
    "rf_random.fit(X_train , y_train)"
   ]
  },
  {
   "cell_type": "code",
   "execution_count": 66,
   "id": "60c4addd",
   "metadata": {},
   "outputs": [
    {
     "name": "stdout",
     "output_type": "stream",
     "text": [
      "Best Tuned Hyperparameters : {'n_estimators': 400, 'min_samples_split': 2, 'min_samples_leaf': 1, 'max_features': 'sqrt', 'max_depth': None, 'bootstrap': False}\n",
      "Accuracy at Tunned Hyperparameters : 0.9584783969068821\n"
     ]
    }
   ],
   "source": [
    "print(\"Best Tuned Hyperparameters :\", rf_random.best_params_)\n",
    "print(\"Accuracy at Tunned Hyperparameters :\",rf_random.best_score_)"
   ]
  },
  {
   "cell_type": "code",
   "execution_count": 67,
   "id": "235dfcb1",
   "metadata": {},
   "outputs": [
    {
     "name": "stdout",
     "output_type": "stream",
     "text": [
      "Model Performance\n",
      "Average Error: 0.0252 degrees.\n",
      "Accuracy = -inf%.\n"
     ]
    }
   ],
   "source": [
    "def evaluate(model, test_features, test_labels):\n",
    "    predictions = model.predict(test_features)\n",
    "    errors = abs(predictions - test_labels)\n",
    "    mape = 100 * np.mean(errors / test_labels)\n",
    "    accuracy = 100 - mape\n",
    "    print('Model Performance')\n",
    "    print('Average Error: {:0.4f} degrees.'.format(np.mean(errors)))\n",
    "    print('Accuracy = {:0.2f}%.'.format(accuracy))\n",
    "    \n",
    "    return accuracy\n",
    "base_model = RandomForestRegressor(n_estimators = 10, random_state = 42)\n",
    "base_model.fit(X_train, y_train)\n",
    "base_accuracy = evaluate(base_model, X_train, y_train)"
   ]
  },
  {
   "cell_type": "code",
   "execution_count": 68,
   "id": "8d2b0df7",
   "metadata": {},
   "outputs": [
    {
     "name": "stdout",
     "output_type": "stream",
     "text": [
      "Model Performance\n",
      "Average Error: 0.0472 degrees.\n",
      "Accuracy = -inf%.\n"
     ]
    }
   ],
   "source": [
    "best_random = rf_random.best_estimator_\n",
    "random_accuracy = evaluate(best_random, X_test, y_test)"
   ]
  },
  {
   "cell_type": "markdown",
   "id": "7861680c",
   "metadata": {},
   "source": [
    "# Decision Tree"
   ]
  },
  {
   "cell_type": "code",
   "execution_count": 69,
   "id": "bd2bea37",
   "metadata": {},
   "outputs": [],
   "source": [
    "# Import necessary modules\n",
    "from scipy.stats import randint\n",
    "\n",
    "param_dist = {\"max_depth\": [3, None],\n",
    "              \"max_features\": randint(1, 9),\n",
    "              \"min_samples_leaf\": randint(1, 9),\n",
    "              \"criterion\": [\"gini\", \"entropy\"]}\n",
    "\n"
   ]
  },
  {
   "cell_type": "code",
   "execution_count": 70,
   "id": "5665484d",
   "metadata": {},
   "outputs": [
    {
     "data": {
      "text/plain": [
       "RandomizedSearchCV(cv=5, estimator=DecisionTreeClassifier(),\n",
       "                   param_distributions={'criterion': ['gini', 'entropy'],\n",
       "                                        'max_depth': [3, None],\n",
       "                                        'max_features': <scipy.stats._distn_infrastructure.rv_frozen object at 0x000001FF30D519D0>,\n",
       "                                        'min_samples_leaf': <scipy.stats._distn_infrastructure.rv_frozen object at 0x000001FF30D2D9A0>})"
      ]
     },
     "execution_count": 70,
     "metadata": {},
     "output_type": "execute_result"
    }
   ],
   "source": [
    "# Instantiate a Decision Tree classifier: tree\n",
    "tree = DecisionTreeClassifier()\n",
    "\n",
    "# Instantiate the RandomizedSearchCV object: tree_cv\n",
    "tree_cv = RandomizedSearchCV(tree, param_dist, cv=5)\n",
    "\n",
    "# Fit it to the data\n",
    "tree_cv.fit(X_train,y_train)"
   ]
  },
  {
   "cell_type": "code",
   "execution_count": 71,
   "id": "a6de4782",
   "metadata": {},
   "outputs": [
    {
     "name": "stdout",
     "output_type": "stream",
     "text": [
      "Tuned Decision Tree Parameters: {'criterion': 'gini', 'max_depth': None, 'max_features': 7, 'min_samples_leaf': 3}\n",
      "Best score is 0.9609730301427817\n"
     ]
    }
   ],
   "source": [
    "# Print the tuned parameters and score\n",
    "print(\"Tuned Decision Tree Parameters: {}\".format(tree_cv.best_params_))\n",
    "print(\"Best score is {}\".format(tree_cv.best_score_))"
   ]
  },
  {
   "cell_type": "markdown",
   "id": "10c960e3",
   "metadata": {},
   "source": [
    "# Bayensian Optmimizer"
   ]
  },
  {
   "cell_type": "markdown",
   "id": "d83b2d3f",
   "metadata": {},
   "source": [
    "# Support Vector Machine "
   ]
  },
  {
   "cell_type": "code",
   "execution_count": 72,
   "id": "246e49d0",
   "metadata": {},
   "outputs": [],
   "source": [
    "from skopt import BayesSearchCV\n",
    "from sklearn.model_selection import cross_val_score\n",
    "from sklearn.model_selection import RepeatedStratifiedKFold\n"
   ]
  },
  {
   "cell_type": "code",
   "execution_count": 74,
   "id": "b60e563e",
   "metadata": {},
   "outputs": [],
   "source": [
    "params_SVM_BO = dict()\n",
    "params_SVM_BO['C'] = (1e-6, 100.0, 'log-uniform')\n",
    "params_SVM_BO['gamma'] = (1e-6, 100.0, 'log-uniform')\n",
    "params_SVM_BO['degree'] = (1,5)\n",
    "params_SVM_BO['kernel'] = ['linear', 'poly', 'rbf', 'sigmoid']"
   ]
  },
  {
   "cell_type": "code",
   "execution_count": 75,
   "id": "81472257",
   "metadata": {},
   "outputs": [],
   "source": [
    "# define evaluation\n",
    "cv = RepeatedStratifiedKFold(n_splits=10, n_repeats=3, random_state=1)\n",
    "# define the search\n",
    "search = BayesSearchCV(estimator=SVC(), search_spaces=params_SVM_BO, n_jobs=-1, cv=cv)\n",
    "# perform the search"
   ]
  },
  {
   "cell_type": "code",
   "execution_count": 76,
   "id": "13490331",
   "metadata": {},
   "outputs": [
    {
     "name": "stdout",
     "output_type": "stream",
     "text": [
      "0.9946236559139784\n",
      "OrderedDict([('C', 14.13347929490638), ('degree', 5), ('gamma', 0.00402235191334632), ('kernel', 'linear')])\n"
     ]
    }
   ],
   "source": [
    "# perform the search\n",
    "search.fit(X_train, y_train)\n",
    "# report the best result\n",
    "print(search.best_score_)\n",
    "print(search.best_params_)"
   ]
  },
  {
   "cell_type": "markdown",
   "id": "6b00a570",
   "metadata": {},
   "source": [
    "## Hyper Optuna"
   ]
  },
  {
   "cell_type": "code",
   "execution_count": 106,
   "id": "cb687caa",
   "metadata": {},
   "outputs": [],
   "source": [
    "import optuna\n",
    "import sklearn\n",
    "def objective(trial):\n",
    "    n_estimators = trial.suggest_int('n_estimators', 2, 20)\n",
    "    max_depth = int(trial.suggest_loguniform('max_depth', 1, 32))\n",
    "    clf = sklearn.tree.DecisionTreeClassifier( max_depth=max_depth)\n",
    "    return sklearn.model_selection.cross_val_score(clf, X_train,y_train, \n",
    "           n_jobs=-1, cv=3).mean()"
   ]
  },
  {
   "cell_type": "code",
   "execution_count": 107,
   "id": "5db6c912",
   "metadata": {},
   "outputs": [
    {
     "name": "stderr",
     "output_type": "stream",
     "text": [
      "\u001b[32m[I 2022-05-24 01:47:29,366]\u001b[0m A new study created in memory with name: no-name-3822c5f1-9c1c-4899-8ab9-42278bfe057a\u001b[0m\n",
      "\u001b[32m[I 2022-05-24 01:47:33,475]\u001b[0m Trial 0 finished with value: 0.7961165048543689 and parameters: {'n_estimators': 11, 'max_depth': 1.141360929194501}. Best is trial 0 with value: 0.7961165048543689.\u001b[0m\n",
      "\u001b[32m[I 2022-05-24 01:47:36,760]\u001b[0m Trial 1 finished with value: 0.970873786407767 and parameters: {'n_estimators': 6, 'max_depth': 8.496724401501503}. Best is trial 1 with value: 0.970873786407767.\u001b[0m\n",
      "\u001b[32m[I 2022-05-24 01:47:40,529]\u001b[0m Trial 2 finished with value: 0.9676375404530745 and parameters: {'n_estimators': 18, 'max_depth': 8.431110128440984}. Best is trial 1 with value: 0.970873786407767.\u001b[0m\n",
      "\u001b[32m[I 2022-05-24 01:47:40,553]\u001b[0m Trial 3 finished with value: 0.9676375404530745 and parameters: {'n_estimators': 11, 'max_depth': 10.073874592324186}. Best is trial 1 with value: 0.970873786407767.\u001b[0m\n",
      "\u001b[32m[I 2022-05-24 01:47:40,574]\u001b[0m Trial 4 finished with value: 0.9805825242718447 and parameters: {'n_estimators': 3, 'max_depth': 20.08650804102901}. Best is trial 4 with value: 0.9805825242718447.\u001b[0m\n",
      "\u001b[32m[I 2022-05-24 01:47:40,592]\u001b[0m Trial 5 finished with value: 0.7961165048543689 and parameters: {'n_estimators': 14, 'max_depth': 1.2034350952774884}. Best is trial 4 with value: 0.9805825242718447.\u001b[0m\n",
      "\u001b[32m[I 2022-05-24 01:47:40,609]\u001b[0m Trial 6 finished with value: 0.9741100323624595 and parameters: {'n_estimators': 20, 'max_depth': 8.354384831024028}. Best is trial 4 with value: 0.9805825242718447.\u001b[0m\n",
      "\u001b[32m[I 2022-05-24 01:47:40,628]\u001b[0m Trial 7 finished with value: 0.7961165048543689 and parameters: {'n_estimators': 15, 'max_depth': 1.9508559508406227}. Best is trial 4 with value: 0.9805825242718447.\u001b[0m\n",
      "\u001b[32m[I 2022-05-24 01:47:40,646]\u001b[0m Trial 8 finished with value: 0.7961165048543689 and parameters: {'n_estimators': 5, 'max_depth': 1.3453877586439484}. Best is trial 4 with value: 0.9805825242718447.\u001b[0m\n",
      "\u001b[32m[I 2022-05-24 01:47:40,664]\u001b[0m Trial 9 finished with value: 0.9449838187702265 and parameters: {'n_estimators': 3, 'max_depth': 2.995510768919573}. Best is trial 4 with value: 0.9805825242718447.\u001b[0m\n",
      "\u001b[32m[I 2022-05-24 01:47:40,695]\u001b[0m Trial 10 finished with value: 0.970873786407767 and parameters: {'n_estimators': 8, 'max_depth': 28.59497859019259}. Best is trial 4 with value: 0.9805825242718447.\u001b[0m\n",
      "\u001b[32m[I 2022-05-24 01:47:40,742]\u001b[0m Trial 11 finished with value: 0.9805825242718447 and parameters: {'n_estimators': 20, 'max_depth': 22.28911889376928}. Best is trial 4 with value: 0.9805825242718447.\u001b[0m\n",
      "\u001b[32m[I 2022-05-24 01:47:40,784]\u001b[0m Trial 12 finished with value: 0.9644012944983819 and parameters: {'n_estimators': 2, 'max_depth': 31.388075559462358}. Best is trial 4 with value: 0.9805825242718447.\u001b[0m\n",
      "\u001b[32m[I 2022-05-24 01:47:40,835]\u001b[0m Trial 13 finished with value: 0.9805825242718447 and parameters: {'n_estimators': 16, 'max_depth': 17.67890261363734}. Best is trial 4 with value: 0.9805825242718447.\u001b[0m\n",
      "\u001b[32m[I 2022-05-24 01:47:40,885]\u001b[0m Trial 14 finished with value: 0.9741100323624595 and parameters: {'n_estimators': 8, 'max_depth': 16.682290491719957}. Best is trial 4 with value: 0.9805825242718447.\u001b[0m\n",
      "\u001b[32m[I 2022-05-24 01:47:40,932]\u001b[0m Trial 15 finished with value: 0.9741100323624595 and parameters: {'n_estimators': 13, 'max_depth': 4.125712539964545}. Best is trial 4 with value: 0.9805825242718447.\u001b[0m\n",
      "\u001b[32m[I 2022-05-24 01:47:40,968]\u001b[0m Trial 16 finished with value: 0.9741100323624595 and parameters: {'n_estimators': 19, 'max_depth': 15.334079423181299}. Best is trial 4 with value: 0.9805825242718447.\u001b[0m\n",
      "\u001b[32m[I 2022-05-24 01:47:41,016]\u001b[0m Trial 17 finished with value: 0.9773462783171522 and parameters: {'n_estimators': 16, 'max_depth': 13.736462338953407}. Best is trial 4 with value: 0.9805825242718447.\u001b[0m\n",
      "\u001b[32m[I 2022-05-24 01:47:41,063]\u001b[0m Trial 18 finished with value: 0.9676375404530745 and parameters: {'n_estimators': 9, 'max_depth': 25.202819141477786}. Best is trial 4 with value: 0.9805825242718447.\u001b[0m\n",
      "\u001b[32m[I 2022-05-24 01:47:41,106]\u001b[0m Trial 19 finished with value: 0.9741100323624595 and parameters: {'n_estimators': 5, 'max_depth': 5.279321870562483}. Best is trial 4 with value: 0.9805825242718447.\u001b[0m\n",
      "\u001b[32m[I 2022-05-24 01:47:41,139]\u001b[0m Trial 20 finished with value: 0.970873786407767 and parameters: {'n_estimators': 12, 'max_depth': 18.902769421752893}. Best is trial 4 with value: 0.9805825242718447.\u001b[0m\n",
      "\u001b[32m[I 2022-05-24 01:47:41,192]\u001b[0m Trial 21 finished with value: 0.9773462783171522 and parameters: {'n_estimators': 18, 'max_depth': 21.524097445934206}. Best is trial 4 with value: 0.9805825242718447.\u001b[0m\n",
      "\u001b[32m[I 2022-05-24 01:47:41,241]\u001b[0m Trial 22 finished with value: 0.9773462783171522 and parameters: {'n_estimators': 17, 'max_depth': 13.657188400662246}. Best is trial 4 with value: 0.9805825242718447.\u001b[0m\n",
      "\u001b[32m[I 2022-05-24 01:47:41,274]\u001b[0m Trial 23 finished with value: 0.9741100323624595 and parameters: {'n_estimators': 20, 'max_depth': 10.724209441068558}. Best is trial 4 with value: 0.9805825242718447.\u001b[0m\n",
      "\u001b[32m[I 2022-05-24 01:47:41,315]\u001b[0m Trial 24 finished with value: 0.9741100323624595 and parameters: {'n_estimators': 15, 'max_depth': 21.431903411841706}. Best is trial 4 with value: 0.9805825242718447.\u001b[0m\n",
      "\u001b[32m[I 2022-05-24 01:47:41,377]\u001b[0m Trial 25 finished with value: 0.9805825242718447 and parameters: {'n_estimators': 17, 'max_depth': 24.41916850730204}. Best is trial 4 with value: 0.9805825242718447.\u001b[0m\n",
      "\u001b[32m[I 2022-05-24 01:47:41,435]\u001b[0m Trial 26 finished with value: 0.970873786407767 and parameters: {'n_estimators': 16, 'max_depth': 31.96419705076723}. Best is trial 4 with value: 0.9805825242718447.\u001b[0m\n",
      "\u001b[32m[I 2022-05-24 01:47:41,489]\u001b[0m Trial 27 finished with value: 0.9773462783171522 and parameters: {'n_estimators': 20, 'max_depth': 6.584280538265983}. Best is trial 4 with value: 0.9805825242718447.\u001b[0m\n",
      "\u001b[32m[I 2022-05-24 01:47:41,545]\u001b[0m Trial 28 finished with value: 0.9676375404530745 and parameters: {'n_estimators': 13, 'max_depth': 11.468086294426053}. Best is trial 4 with value: 0.9805825242718447.\u001b[0m\n",
      "\u001b[32m[I 2022-05-24 01:47:41,598]\u001b[0m Trial 29 finished with value: 0.9773462783171522 and parameters: {'n_estimators': 10, 'max_depth': 17.852814849466125}. Best is trial 4 with value: 0.9805825242718447.\u001b[0m\n",
      "\u001b[32m[I 2022-05-24 01:47:41,655]\u001b[0m Trial 30 finished with value: 0.9676375404530745 and parameters: {'n_estimators': 19, 'max_depth': 22.780471549683618}. Best is trial 4 with value: 0.9805825242718447.\u001b[0m\n",
      "\u001b[32m[I 2022-05-24 01:47:41,714]\u001b[0m Trial 31 finished with value: 0.9644012944983819 and parameters: {'n_estimators': 17, 'max_depth': 25.71736170481072}. Best is trial 4 with value: 0.9805825242718447.\u001b[0m\n",
      "\u001b[32m[I 2022-05-24 01:47:41,774]\u001b[0m Trial 32 finished with value: 0.9773462783171522 and parameters: {'n_estimators': 18, 'max_depth': 18.850934611931734}. Best is trial 4 with value: 0.9805825242718447.\u001b[0m\n",
      "\u001b[32m[I 2022-05-24 01:47:41,829]\u001b[0m Trial 33 finished with value: 0.9741100323624595 and parameters: {'n_estimators': 17, 'max_depth': 11.8617185304156}. Best is trial 4 with value: 0.9805825242718447.\u001b[0m\n",
      "\u001b[32m[I 2022-05-24 01:47:41,887]\u001b[0m Trial 34 finished with value: 0.9676375404530745 and parameters: {'n_estimators': 15, 'max_depth': 14.550072849406451}. Best is trial 4 with value: 0.9805825242718447.\u001b[0m\n",
      "\u001b[32m[I 2022-05-24 01:47:41,948]\u001b[0m Trial 35 finished with value: 0.9805825242718447 and parameters: {'n_estimators': 7, 'max_depth': 25.622430677325724}. Best is trial 4 with value: 0.9805825242718447.\u001b[0m\n",
      "\u001b[32m[I 2022-05-24 01:47:42,006]\u001b[0m Trial 36 finished with value: 0.9773462783171522 and parameters: {'n_estimators': 6, 'max_depth': 7.408706949729868}. Best is trial 4 with value: 0.9805825242718447.\u001b[0m\n",
      "\u001b[32m[I 2022-05-24 01:47:42,045]\u001b[0m Trial 37 finished with value: 0.9773462783171522 and parameters: {'n_estimators': 4, 'max_depth': 26.094521100860693}. Best is trial 4 with value: 0.9805825242718447.\u001b[0m\n",
      "\u001b[32m[I 2022-05-24 01:47:42,110]\u001b[0m Trial 38 finished with value: 0.9773462783171522 and parameters: {'n_estimators': 6, 'max_depth': 18.382315240686342}. Best is trial 4 with value: 0.9805825242718447.\u001b[0m\n"
     ]
    },
    {
     "name": "stderr",
     "output_type": "stream",
     "text": [
      "\u001b[32m[I 2022-05-24 01:47:42,170]\u001b[0m Trial 39 finished with value: 0.9805825242718447 and parameters: {'n_estimators': 7, 'max_depth': 9.731999834410708}. Best is trial 4 with value: 0.9805825242718447.\u001b[0m\n",
      "\u001b[32m[I 2022-05-24 01:47:42,223]\u001b[0m Trial 40 finished with value: 0.9741100323624595 and parameters: {'n_estimators': 7, 'max_depth': 9.31423082760806}. Best is trial 4 with value: 0.9805825242718447.\u001b[0m\n",
      "\u001b[32m[I 2022-05-24 01:47:42,273]\u001b[0m Trial 41 finished with value: 0.970873786407767 and parameters: {'n_estimators': 2, 'max_depth': 21.060179201081734}. Best is trial 4 with value: 0.9805825242718447.\u001b[0m\n",
      "\u001b[32m[I 2022-05-24 01:47:42,338]\u001b[0m Trial 42 finished with value: 0.9676375404530745 and parameters: {'n_estimators': 4, 'max_depth': 12.765411751108235}. Best is trial 4 with value: 0.9805825242718447.\u001b[0m\n",
      "\u001b[32m[I 2022-05-24 01:47:42,399]\u001b[0m Trial 43 finished with value: 0.9741100323624595 and parameters: {'n_estimators': 11, 'max_depth': 16.054874790431434}. Best is trial 4 with value: 0.9805825242718447.\u001b[0m\n",
      "\u001b[32m[I 2022-05-24 01:47:42,448]\u001b[0m Trial 44 finished with value: 0.9773462783171522 and parameters: {'n_estimators': 19, 'max_depth': 9.104352586287888}. Best is trial 4 with value: 0.9805825242718447.\u001b[0m\n",
      "\u001b[32m[I 2022-05-24 01:47:42,502]\u001b[0m Trial 45 finished with value: 0.9741100323624595 and parameters: {'n_estimators': 9, 'max_depth': 27.791757245057763}. Best is trial 4 with value: 0.9805825242718447.\u001b[0m\n",
      "\u001b[32m[I 2022-05-24 01:47:42,586]\u001b[0m Trial 46 finished with value: 0.9741100323624595 and parameters: {'n_estimators': 7, 'max_depth': 5.4117850572202615}. Best is trial 4 with value: 0.9805825242718447.\u001b[0m\n",
      "\u001b[32m[I 2022-05-24 01:47:42,639]\u001b[0m Trial 47 finished with value: 0.9773462783171522 and parameters: {'n_estimators': 14, 'max_depth': 3.1038866695341127}. Best is trial 4 with value: 0.9805825242718447.\u001b[0m\n",
      "\u001b[32m[I 2022-05-24 01:47:42,689]\u001b[0m Trial 48 finished with value: 0.9741100323624595 and parameters: {'n_estimators': 3, 'max_depth': 16.061409874537645}. Best is trial 4 with value: 0.9805825242718447.\u001b[0m\n",
      "\u001b[32m[I 2022-05-24 01:47:42,743]\u001b[0m Trial 49 finished with value: 0.9741100323624595 and parameters: {'n_estimators': 18, 'max_depth': 7.798351848105069}. Best is trial 4 with value: 0.9805825242718447.\u001b[0m\n",
      "\u001b[32m[I 2022-05-24 01:47:42,795]\u001b[0m Trial 50 finished with value: 0.970873786407767 and parameters: {'n_estimators': 10, 'max_depth': 29.244692719390795}. Best is trial 4 with value: 0.9805825242718447.\u001b[0m\n",
      "\u001b[32m[I 2022-05-24 01:47:42,851]\u001b[0m Trial 51 finished with value: 0.970873786407767 and parameters: {'n_estimators': 5, 'max_depth': 23.19612764125048}. Best is trial 4 with value: 0.9805825242718447.\u001b[0m\n",
      "\u001b[32m[I 2022-05-24 01:47:42,909]\u001b[0m Trial 52 finished with value: 0.9644012944983819 and parameters: {'n_estimators': 8, 'max_depth': 20.531988508968777}. Best is trial 4 with value: 0.9805825242718447.\u001b[0m\n",
      "\u001b[32m[I 2022-05-24 01:47:42,964]\u001b[0m Trial 53 finished with value: 0.9741100323624595 and parameters: {'n_estimators': 12, 'max_depth': 24.11125377778251}. Best is trial 4 with value: 0.9805825242718447.\u001b[0m\n",
      "\u001b[32m[I 2022-05-24 01:47:43,011]\u001b[0m Trial 54 finished with value: 0.970873786407767 and parameters: {'n_estimators': 7, 'max_depth': 28.225195546871532}. Best is trial 4 with value: 0.9805825242718447.\u001b[0m\n",
      "\u001b[32m[I 2022-05-24 01:47:43,058]\u001b[0m Trial 55 finished with value: 0.970873786407767 and parameters: {'n_estimators': 16, 'max_depth': 16.925366543915924}. Best is trial 4 with value: 0.9805825242718447.\u001b[0m\n",
      "\u001b[32m[I 2022-05-24 01:47:43,102]\u001b[0m Trial 56 finished with value: 0.9805825242718447 and parameters: {'n_estimators': 3, 'max_depth': 19.557610818154618}. Best is trial 4 with value: 0.9805825242718447.\u001b[0m\n",
      "\u001b[32m[I 2022-05-24 01:47:43,146]\u001b[0m Trial 57 finished with value: 0.970873786407767 and parameters: {'n_estimators': 4, 'max_depth': 4.319694732056086}. Best is trial 4 with value: 0.9805825242718447.\u001b[0m\n",
      "\u001b[32m[I 2022-05-24 01:47:43,187]\u001b[0m Trial 58 finished with value: 0.9773462783171522 and parameters: {'n_estimators': 3, 'max_depth': 31.581179300776203}. Best is trial 4 with value: 0.9805825242718447.\u001b[0m\n",
      "\u001b[32m[I 2022-05-24 01:47:43,219]\u001b[0m Trial 59 finished with value: 0.7961165048543689 and parameters: {'n_estimators': 2, 'max_depth': 1.651694312518191}. Best is trial 4 with value: 0.9805825242718447.\u001b[0m\n",
      "\u001b[32m[I 2022-05-24 01:47:43,250]\u001b[0m Trial 60 finished with value: 0.9773462783171522 and parameters: {'n_estimators': 14, 'max_depth': 12.998079728373826}. Best is trial 4 with value: 0.9805825242718447.\u001b[0m\n",
      "\u001b[32m[I 2022-05-24 01:47:43,279]\u001b[0m Trial 61 finished with value: 0.9676375404530745 and parameters: {'n_estimators': 3, 'max_depth': 20.037696592067217}. Best is trial 4 with value: 0.9805825242718447.\u001b[0m\n",
      "\u001b[32m[I 2022-05-24 01:47:43,311]\u001b[0m Trial 62 finished with value: 0.970873786407767 and parameters: {'n_estimators': 5, 'max_depth': 23.670792750540134}. Best is trial 4 with value: 0.9805825242718447.\u001b[0m\n",
      "\u001b[32m[I 2022-05-24 01:47:43,343]\u001b[0m Trial 63 finished with value: 0.9773462783171522 and parameters: {'n_estimators': 19, 'max_depth': 10.481623196940808}. Best is trial 4 with value: 0.9805825242718447.\u001b[0m\n",
      "\u001b[32m[I 2022-05-24 01:47:43,372]\u001b[0m Trial 64 finished with value: 0.9741100323624595 and parameters: {'n_estimators': 9, 'max_depth': 17.906642512426625}. Best is trial 4 with value: 0.9805825242718447.\u001b[0m\n",
      "\u001b[32m[I 2022-05-24 01:47:43,404]\u001b[0m Trial 65 finished with value: 0.9773462783171522 and parameters: {'n_estimators': 4, 'max_depth': 14.023828032563442}. Best is trial 4 with value: 0.9805825242718447.\u001b[0m\n",
      "\u001b[32m[I 2022-05-24 01:47:43,442]\u001b[0m Trial 66 finished with value: 0.9676375404530745 and parameters: {'n_estimators': 20, 'max_depth': 26.70952580758693}. Best is trial 4 with value: 0.9805825242718447.\u001b[0m\n",
      "\u001b[32m[I 2022-05-24 01:47:43,480]\u001b[0m Trial 67 finished with value: 0.9676375404530745 and parameters: {'n_estimators': 16, 'max_depth': 15.403954997727189}. Best is trial 4 with value: 0.9805825242718447.\u001b[0m\n",
      "\u001b[32m[I 2022-05-24 01:47:43,517]\u001b[0m Trial 68 finished with value: 0.970873786407767 and parameters: {'n_estimators': 13, 'max_depth': 22.075490935664153}. Best is trial 4 with value: 0.9805825242718447.\u001b[0m\n",
      "\u001b[32m[I 2022-05-24 01:47:43,556]\u001b[0m Trial 69 finished with value: 0.9644012944983819 and parameters: {'n_estimators': 17, 'max_depth': 19.6984633173563}. Best is trial 4 with value: 0.9805825242718447.\u001b[0m\n",
      "\u001b[32m[I 2022-05-24 01:47:43,595]\u001b[0m Trial 70 finished with value: 0.9773462783171522 and parameters: {'n_estimators': 3, 'max_depth': 24.89905273588035}. Best is trial 4 with value: 0.9805825242718447.\u001b[0m\n",
      "\u001b[32m[I 2022-05-24 01:47:43,632]\u001b[0m Trial 71 finished with value: 0.9805825242718447 and parameters: {'n_estimators': 20, 'max_depth': 4.809678214015417}. Best is trial 4 with value: 0.9805825242718447.\u001b[0m\n",
      "\u001b[32m[I 2022-05-24 01:47:43,673]\u001b[0m Trial 72 finished with value: 0.9773462783171522 and parameters: {'n_estimators': 19, 'max_depth': 6.290697219991602}. Best is trial 4 with value: 0.9805825242718447.\u001b[0m\n",
      "\u001b[32m[I 2022-05-24 01:47:43,705]\u001b[0m Trial 73 finished with value: 0.9773462783171522 and parameters: {'n_estimators': 20, 'max_depth': 4.632291651835954}. Best is trial 4 with value: 0.9805825242718447.\u001b[0m\n",
      "\u001b[32m[I 2022-05-24 01:47:43,729]\u001b[0m Trial 74 finished with value: 0.9741100323624595 and parameters: {'n_estimators': 18, 'max_depth': 3.0412445051467305}. Best is trial 4 with value: 0.9805825242718447.\u001b[0m\n",
      "\u001b[32m[I 2022-05-24 01:47:43,754]\u001b[0m Trial 75 finished with value: 0.970873786407767 and parameters: {'n_estimators': 2, 'max_depth': 4.732216965810646}. Best is trial 4 with value: 0.9805825242718447.\u001b[0m\n",
      "\u001b[32m[I 2022-05-24 01:47:43,777]\u001b[0m Trial 76 finished with value: 0.9449838187702265 and parameters: {'n_estimators': 6, 'max_depth': 2.6448395890759184}. Best is trial 4 with value: 0.9805825242718447.\u001b[0m\n",
      "\u001b[32m[I 2022-05-24 01:47:43,804]\u001b[0m Trial 77 finished with value: 0.9773462783171522 and parameters: {'n_estimators': 19, 'max_depth': 17.48253304967063}. Best is trial 4 with value: 0.9805825242718447.\u001b[0m\n",
      "\u001b[32m[I 2022-05-24 01:47:43,837]\u001b[0m Trial 78 finished with value: 0.9741100323624595 and parameters: {'n_estimators': 20, 'max_depth': 3.841358393583141}. Best is trial 4 with value: 0.9805825242718447.\u001b[0m\n"
     ]
    },
    {
     "name": "stderr",
     "output_type": "stream",
     "text": [
      "\u001b[32m[I 2022-05-24 01:47:43,876]\u001b[0m Trial 79 finished with value: 0.9676375404530745 and parameters: {'n_estimators': 11, 'max_depth': 6.044180831985943}. Best is trial 4 with value: 0.9805825242718447.\u001b[0m\n",
      "\u001b[32m[I 2022-05-24 01:47:43,914]\u001b[0m Trial 80 finished with value: 0.9773462783171522 and parameters: {'n_estimators': 5, 'max_depth': 7.0161349613069754}. Best is trial 4 with value: 0.9805825242718447.\u001b[0m\n",
      "\u001b[32m[I 2022-05-24 01:47:43,951]\u001b[0m Trial 81 finished with value: 0.9741100323624595 and parameters: {'n_estimators': 18, 'max_depth': 21.12342060984117}. Best is trial 4 with value: 0.9805825242718447.\u001b[0m\n",
      "\u001b[32m[I 2022-05-24 01:47:43,995]\u001b[0m Trial 82 finished with value: 0.9741100323624595 and parameters: {'n_estimators': 8, 'max_depth': 7.641949504819617}. Best is trial 4 with value: 0.9805825242718447.\u001b[0m\n",
      "\u001b[32m[I 2022-05-24 01:47:44,037]\u001b[0m Trial 83 finished with value: 0.9773462783171522 and parameters: {'n_estimators': 17, 'max_depth': 14.713202729762745}. Best is trial 4 with value: 0.9805825242718447.\u001b[0m\n",
      "\u001b[32m[I 2022-05-24 01:47:44,072]\u001b[0m Trial 84 finished with value: 0.9741100323624595 and parameters: {'n_estimators': 20, 'max_depth': 11.772311297283785}. Best is trial 4 with value: 0.9805825242718447.\u001b[0m\n",
      "\u001b[32m[I 2022-05-24 01:47:44,102]\u001b[0m Trial 85 finished with value: 0.9741100323624595 and parameters: {'n_estimators': 15, 'max_depth': 3.3206625814659896}. Best is trial 4 with value: 0.9805825242718447.\u001b[0m\n",
      "\u001b[32m[I 2022-05-24 01:47:44,136]\u001b[0m Trial 86 finished with value: 0.970873786407767 and parameters: {'n_estimators': 9, 'max_depth': 29.303154230885358}. Best is trial 4 with value: 0.9805825242718447.\u001b[0m\n",
      "\u001b[32m[I 2022-05-24 01:47:44,161]\u001b[0m Trial 87 finished with value: 0.9676375404530745 and parameters: {'n_estimators': 3, 'max_depth': 24.901991916328033}. Best is trial 4 with value: 0.9805825242718447.\u001b[0m\n",
      "\u001b[32m[I 2022-05-24 01:47:44,187]\u001b[0m Trial 88 finished with value: 0.9741100323624595 and parameters: {'n_estimators': 6, 'max_depth': 7.1731509858032165}. Best is trial 4 with value: 0.9805825242718447.\u001b[0m\n",
      "\u001b[32m[I 2022-05-24 01:47:44,212]\u001b[0m Trial 89 finished with value: 0.9773462783171522 and parameters: {'n_estimators': 19, 'max_depth': 19.034907016798307}. Best is trial 4 with value: 0.9805825242718447.\u001b[0m\n",
      "\u001b[32m[I 2022-05-24 01:47:44,241]\u001b[0m Trial 90 finished with value: 0.9676375404530745 and parameters: {'n_estimators': 14, 'max_depth': 22.32927123382867}. Best is trial 4 with value: 0.9805825242718447.\u001b[0m\n",
      "\u001b[32m[I 2022-05-24 01:47:44,274]\u001b[0m Trial 91 finished with value: 0.9741100323624595 and parameters: {'n_estimators': 19, 'max_depth': 17.220340784525902}. Best is trial 4 with value: 0.9805825242718447.\u001b[0m\n",
      "\u001b[32m[I 2022-05-24 01:47:44,303]\u001b[0m Trial 92 finished with value: 0.970873786407767 and parameters: {'n_estimators': 16, 'max_depth': 10.18858821193721}. Best is trial 4 with value: 0.9805825242718447.\u001b[0m\n",
      "\u001b[32m[I 2022-05-24 01:47:44,336]\u001b[0m Trial 93 finished with value: 0.9741100323624595 and parameters: {'n_estimators': 3, 'max_depth': 24.556353255961117}. Best is trial 4 with value: 0.9805825242718447.\u001b[0m\n",
      "\u001b[32m[I 2022-05-24 01:47:44,368]\u001b[0m Trial 94 finished with value: 0.970873786407767 and parameters: {'n_estimators': 4, 'max_depth': 13.526537656014044}. Best is trial 4 with value: 0.9805825242718447.\u001b[0m\n",
      "\u001b[32m[I 2022-05-24 01:47:44,405]\u001b[0m Trial 95 finished with value: 0.9741100323624595 and parameters: {'n_estimators': 2, 'max_depth': 29.637337084293883}. Best is trial 4 with value: 0.9805825242718447.\u001b[0m\n",
      "\u001b[32m[I 2022-05-24 01:47:44,441]\u001b[0m Trial 96 finished with value: 0.9644012944983819 and parameters: {'n_estimators': 4, 'max_depth': 26.475760223645633}. Best is trial 4 with value: 0.9805825242718447.\u001b[0m\n",
      "\u001b[32m[I 2022-05-24 01:47:44,485]\u001b[0m Trial 97 finished with value: 0.970873786407767 and parameters: {'n_estimators': 18, 'max_depth': 15.85692694719675}. Best is trial 4 with value: 0.9805825242718447.\u001b[0m\n",
      "\u001b[32m[I 2022-05-24 01:47:44,519]\u001b[0m Trial 98 finished with value: 0.9741100323624595 and parameters: {'n_estimators': 7, 'max_depth': 9.197015352190506}. Best is trial 4 with value: 0.9805825242718447.\u001b[0m\n",
      "\u001b[32m[I 2022-05-24 01:47:44,559]\u001b[0m Trial 99 finished with value: 0.9644012944983819 and parameters: {'n_estimators': 10, 'max_depth': 12.588264852976627}. Best is trial 4 with value: 0.9805825242718447.\u001b[0m\n"
     ]
    }
   ],
   "source": [
    "study = optuna.create_study(direction='maximize')\n",
    "study.optimize(objective, n_trials=100)"
   ]
  },
  {
   "cell_type": "code",
   "execution_count": 109,
   "id": "e1b2c537",
   "metadata": {},
   "outputs": [
    {
     "name": "stdout",
     "output_type": "stream",
     "text": [
      "Accuracy: 0.9805825242718447\n",
      "Best hyperparameters: {'n_estimators': 3, 'max_depth': 20.08650804102901}\n"
     ]
    }
   ],
   "source": [
    "trial = study.best_trial\n",
    "print('Accuracy: {}'.format(trial.value))\n",
    "print(\"Best hyperparameters: {}\".format(trial.params))"
   ]
  },
  {
   "cell_type": "code",
   "execution_count": null,
   "id": "f97b2e2a",
   "metadata": {},
   "outputs": [],
   "source": []
  }
 ],
 "metadata": {
  "kernelspec": {
   "display_name": "Python 3 (ipykernel)",
   "language": "python",
   "name": "python3"
  },
  "language_info": {
   "codemirror_mode": {
    "name": "ipython",
    "version": 3
   },
   "file_extension": ".py",
   "mimetype": "text/x-python",
   "name": "python",
   "nbconvert_exporter": "python",
   "pygments_lexer": "ipython3",
   "version": "3.10.9"
  }
 },
 "nbformat": 4,
 "nbformat_minor": 5
}
